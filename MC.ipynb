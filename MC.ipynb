{
 "cells": [
  {
   "cell_type": "code",
   "execution_count": 1,
   "id": "434a3928",
   "metadata": {},
   "outputs": [],
   "source": [
    "import pandas as pd\n",
    "import numpy as np\n",
    "import seaborn as sns\n",
    "import random\n",
    "import numpy as np\n",
    "import scipy.stats\n",
    "import matplotlib.pyplot as plt\n",
    "#import scipy.stats as stats\n",
    "import math\n",
    "from random import randrange\n",
    "from datetime import datetime\n",
    "\n",
    "sns.set_style('whitegrid')"
   ]
  },
  {
   "cell_type": "markdown",
   "id": "ea604551",
   "metadata": {
    "heading_collapsed": true
   },
   "source": [
    "# INITIAL PLAYGROUND"
   ]
  },
  {
   "cell_type": "code",
   "execution_count": null,
   "id": "2398f165",
   "metadata": {
    "hidden": true
   },
   "outputs": [],
   "source": [
    "deal_count = 100\n",
    "limit_list = []\n",
    "\n",
    "for x in range(deal_count):\n",
    "    limit_list.append(random.randrange(10_000_000, 50_000_000, 2_500_000))"
   ]
  },
  {
   "cell_type": "code",
   "execution_count": null,
   "id": "dda88406",
   "metadata": {
    "hidden": true
   },
   "outputs": [],
   "source": [
    "notice_list = []\n",
    "notice_pct = .05\n",
    "\n",
    "for x in range(int(deal_count*notice_pct)):\n",
    "    notice_list.append(1)\n",
    "\n",
    "for x in range(int(deal_count*(1-notice_pct))):\n",
    "    notice_list.append(0)\n",
    "\n",
    "random.shuffle(notice_list)"
   ]
  },
  {
   "cell_type": "code",
   "execution_count": null,
   "id": "164621ef",
   "metadata": {
    "hidden": true
   },
   "outputs": [],
   "source": [
    "data_tuples = list(zip(limit_list,notice_list))"
   ]
  },
  {
   "cell_type": "code",
   "execution_count": null,
   "id": "fd7af8fe",
   "metadata": {
    "hidden": true
   },
   "outputs": [],
   "source": [
    "df = pd.DataFrame(data_tuples, columns=['Limit','Notice'])"
   ]
  },
  {
   "cell_type": "code",
   "execution_count": null,
   "id": "cfc73d3b",
   "metadata": {
    "hidden": true
   },
   "outputs": [],
   "source": [
    "import scipy.stats as stats\n",
    "import matplotlib.pyplot as plt\n",
    "\n",
    "#lower, upper, mu, and sigma are four parameters\n",
    "lower, upper = 0, 1\n",
    "mu, sigma = 0.05, 0.1\n",
    "\n",
    "#instantiate an object X using the above four parameters,\n",
    "X = stats.truncnorm((lower - mu) / sigma, (upper - mu) / sigma, loc=mu, scale=sigma)\n",
    "\n",
    "#generate 1000 sample data\n",
    "samples = X.rvs(1000)\n",
    "\n",
    "#compute the PDF of the sample data\n",
    "pdf_probs = stats.truncnorm.pdf(samples, (lower-mu)/sigma, (upper-mu)/sigma, mu, sigma)\n",
    "\n",
    "#compute the CDF of the sample data\n",
    "cdf_probs = stats.truncnorm.cdf(samples, (lower-mu)/sigma, (upper-mu)/sigma, mu, sigma)\n",
    "\n",
    "#make a histogram for the samples\n",
    "plt.hist(samples, bins= 50,density=True,alpha=0.3,label='histogram');\n",
    "\n",
    "#plot the PDF curves \n",
    "plt.plot(samples[samples.argsort()],pdf_probs[samples.argsort()],linewidth=2.3,label='PDF curve')\n",
    "\n",
    "#plot CDF curve        \n",
    "plt.plot(samples[samples.argsort()],cdf_probs[samples.argsort()],linewidth=2.3,label='CDF curve')\n",
    "\n",
    "#legend\n",
    "plt.legend(loc='best')"
   ]
  },
  {
   "cell_type": "code",
   "execution_count": null,
   "id": "a03fe081",
   "metadata": {
    "hidden": true
   },
   "outputs": [],
   "source": [
    "def f(x, dist):    \n",
    "    index = x.name\n",
    "    if x[1] == 0:\n",
    "        return 0\n",
    "    if x[1] == 1:\n",
    "        return x[0]*samples[index] \n",
    "\n",
    "df['Loss'] = df.apply(lambda x: f(x, samples), axis=1)"
   ]
  },
  {
   "cell_type": "code",
   "execution_count": null,
   "id": "8725303f",
   "metadata": {
    "hidden": true
   },
   "outputs": [],
   "source": [
    "df.describe().style.format('{:,.0f}')"
   ]
  },
  {
   "cell_type": "code",
   "execution_count": null,
   "id": "f229430f",
   "metadata": {
    "hidden": true
   },
   "outputs": [],
   "source": [
    "Total = df['Loss'].sum()\n",
    "print (Total)"
   ]
  },
  {
   "cell_type": "code",
   "execution_count": null,
   "id": "321b999e",
   "metadata": {
    "hidden": true
   },
   "outputs": [],
   "source": [
    "all_stats = []\n",
    "deal_count = 100\n",
    "low_limit = 10_000_000\n",
    "upper_limit = 50_000_000\n",
    "limit_range = 2_500_000\n",
    "notice_pct = .05\n",
    "num_simulations = 1000\n",
    "lower, upper = 0, 1\n",
    "mu, sigma = 0.025, 0.1\n",
    "\n",
    "for i in range(num_simulations):\n",
    "    limit_list = []\n",
    "    for x in range(deal_count):\n",
    "        limit_list.append(random.randrange(low_limit, upper_limit, limit_range))  \n",
    "    notice_list = []\n",
    "    for x in range(int(deal_count*notice_pct)):\n",
    "        notice_list.append(1)\n",
    "    for x in range(int(deal_count*(1-notice_pct))):\n",
    "        notice_list.append(0)\n",
    "    random.shuffle(notice_list)\n",
    "    data_tuples = list(zip(limit_list,notice_list))\n",
    "    df = pd.DataFrame(data_tuples, columns=['Limit','Notice'])\n",
    "    X = stats.truncnorm((lower - mu) / sigma, (upper - mu) / sigma, loc=mu, scale=sigma)\n",
    "    samples = X.rvs(deal_count)\n",
    "    df['Loss'] = df.apply(lambda x: f(x, samples), axis=1)\n",
    "    all_stats.append(df['Loss'].sum().round(0))"
   ]
  },
  {
   "cell_type": "code",
   "execution_count": null,
   "id": "285dd0ee",
   "metadata": {
    "hidden": true
   },
   "outputs": [],
   "source": [
    "plt.hist(all_stats, bins=100);"
   ]
  },
  {
   "cell_type": "code",
   "execution_count": null,
   "id": "f0490ee3",
   "metadata": {
    "hidden": true
   },
   "outputs": [],
   "source": [
    "sns.displot(all_stats, bins=100, kde=True);"
   ]
  },
  {
   "cell_type": "code",
   "execution_count": null,
   "id": "e8a20eba",
   "metadata": {
    "hidden": true
   },
   "outputs": [],
   "source": [
    "sum(all_stats) / len(all_stats)"
   ]
  },
  {
   "cell_type": "code",
   "execution_count": null,
   "id": "cd457795",
   "metadata": {
    "hidden": true
   },
   "outputs": [],
   "source": [
    "from scipy.stats import skewnorm\n",
    "import matplotlib.pyplot as plt\n",
    "\n",
    "numValues = 10000\n",
    "maxValue = 1\n",
    "skewness = 0   #Negative values are left skewed, positive values are right skewed.\n",
    "\n",
    "random = skewnorm.rvs(a = skewness,loc=maxValue, size=numValues)  #Skewnorm function\n",
    "\n",
    "random = random - min(random)      #Shift the set so the minimum value is equal to zero.\n",
    "random = random / max(random)      #Standadize all the vlues between 0 and 1. \n",
    "random = random * maxValue         #Multiply the standardized values by the maximum value.\n",
    "\n",
    "#Plot histogram to check skewness\n",
    "plt.hist(random,30,density=True, color = 'red', alpha=0.1)\n",
    "plt.show()"
   ]
  },
  {
   "cell_type": "code",
   "execution_count": null,
   "id": "d67bd93f",
   "metadata": {
    "hidden": true
   },
   "outputs": [],
   "source": [
    "random"
   ]
  },
  {
   "cell_type": "code",
   "execution_count": null,
   "id": "f23bd131",
   "metadata": {
    "hidden": true
   },
   "outputs": [],
   "source": [
    "all_stats = []\n",
    "deal_count = 100\n",
    "low_limit = 10_000_000\n",
    "upper_limit = 50_000_000\n",
    "notice_pct = .05\n",
    "num_simulations = 1000\n",
    "lower, upper = 0, 1\n",
    "mu, sigma = 0.025, 0.1\n",
    "\n",
    "for i in range(num_simulations):\n",
    "    limit_list = []\n",
    "    for x in range(deal_count):\n",
    "        limit_list.append(np.random.randint(low_limit, upper_limit))  \n",
    "    notice_list = []\n",
    "    for x in range(int(deal_count*notice_pct)):\n",
    "        notice_list.append(1)\n",
    "    for x in range(int(deal_count*(1-notice_pct))):\n",
    "        notice_list.append(0)\n",
    "    np.random.shuffle(notice_list)\n",
    "    data_tuples = list(zip(limit_list,notice_list))\n",
    "    df = pd.DataFrame(data_tuples, columns=['Limit','Notice'])\n",
    "    \n",
    "    numValues = 10000\n",
    "    maxValue = 1\n",
    "    skewness = 10   #Negative values are left skewed, positive values are right skewed.\n",
    "\n",
    "    random = skewnorm.rvs(a = skewness,loc=maxValue, size=numValues)  #Skewnorm function\n",
    "\n",
    "    random = random - min(random)      #Shift the set so the minimum value is equal to zero.\n",
    "    random = random / max(random)      #Standadize all the vlues between 0 and 1. \n",
    "    random = random * maxValue         #Multiply the standardized values by the maximum value.\n",
    "    \n",
    "    df['Loss'] = df.apply(lambda x: f(x, random), axis=1)\n",
    "    all_stats.append(df['Loss'].sum().round(0))"
   ]
  },
  {
   "cell_type": "code",
   "execution_count": null,
   "id": "9d9fa419",
   "metadata": {
    "hidden": true
   },
   "outputs": [],
   "source": [
    "sns.displot(all_stats, bins=100, kde=True);"
   ]
  },
  {
   "cell_type": "markdown",
   "id": "12ad7bc9",
   "metadata": {
    "heading_collapsed": true
   },
   "source": [
    "# DETAILED WORKBOOK"
   ]
  },
  {
   "cell_type": "markdown",
   "id": "cc83789c",
   "metadata": {
    "hidden": true
   },
   "source": [
    "## Deal Value"
   ]
  },
  {
   "cell_type": "code",
   "execution_count": null,
   "id": "ce808f66",
   "metadata": {
    "hidden": true
   },
   "outputs": [],
   "source": [
    "deal_count = 100\n",
    "DV_list = []\n",
    "DV_range = 2_500_000\n",
    "sme_low_DV, sme_upper_DV = 10_000_000, 75_000_000\n",
    "mm_low_DV, mm_upper_DV = 75_000_000, 750_000_000\n",
    "j_low_DV, j_upper_DV = 750_000_000, 5_000_000_000\n",
    "sme_pct = .35\n",
    "mm_pct = .55\n",
    "j_pct = .1\n",
    "\n",
    "for x in range(int(deal_count*sme_pct)):\n",
    "    DV_list.append(random.randrange(sme_low_DV, sme_upper_DV, DV_range)) \n",
    "for x in range(int(deal_count*mm_pct)):\n",
    "    DV_list.append(random.randrange(mm_low_DV, mm_upper_DV, DV_range)) \n",
    "for x in range(int(deal_count*j_pct)):\n",
    "    DV_list.append(random.randrange(j_low_DV, j_upper_DV, DV_range)) \n",
    "\n",
    "random.shuffle(DV_list)"
   ]
  },
  {
   "cell_type": "markdown",
   "id": "83c9062f",
   "metadata": {
    "hidden": true
   },
   "source": [
    "## Attachment Pt"
   ]
  },
  {
   "cell_type": "code",
   "execution_count": null,
   "id": "56b5d424",
   "metadata": {
    "hidden": true
   },
   "outputs": [],
   "source": [
    "#from random import choices\n",
    "\n",
    "attachment_pt_range = np.arange(0.0025, 0.005, 0.0005)\n",
    "attachment_pt_list = np.random.choice(attachment_pt_range, size=deal_count)\n",
    "\n",
    "primary_xs_list = []\n",
    "primary_pct = 0\n",
    "xs_pct = 1\n",
    "\n",
    "#population = [1, 2, 3, 4, 5, 6]\n",
    "#weights = [0.1, 0.05, 0.05, 0.2, 0.4, 0.2]\n",
    "\n",
    "for dv in DV_list:\n",
    "    if dv > 750_000_000:\n",
    "        x=np.random.choice([0, 1], size=1, p=[primary_pct, xs_pct])\n",
    "        primary_xs_list.append(x[0])\n",
    "        #x = choices(population, weights)\n",
    "        #primary_xs_list.append(x[0])\n",
    "    else:\n",
    "        primary_xs_list.append(0)\n",
    "\n",
    "print(primary_xs_list)"
   ]
  },
  {
   "cell_type": "code",
   "execution_count": null,
   "id": "108b978b",
   "metadata": {
    "hidden": true
   },
   "outputs": [],
   "source": [
    "primary_xs_list = []\n",
    "primary_pct = 0\n",
    "xs_pct = 1\n",
    "\n",
    "attachment_pt_list = []        \n",
    "pri_attachment_pt_range = np.arange(0.0025, 0.005, 0.0005)\n",
    "xs_attachment_pt_range = np.arange(0.05, 0.15, 0.025)\n",
    "\n",
    "for dv in DV_list:\n",
    "    if dv > 750_000_000:\n",
    "        x = np.random.choice([0, 1], size=1, p=[primary_pct, xs_pct])\n",
    "        primary_xs_list.append(x[0])\n",
    "    else:\n",
    "        primary_xs_list.append(0)\n",
    "\n",
    "\n",
    "for pri_v_xs in primary_xs_list:\n",
    "    if pri_v_xs == 0:\n",
    "        y = np.random.choice(pri_attachment_pt_range, size=1)\n",
    "        attachment_pt_list.append(y[0])\n",
    "    if pri_v_xs == 1:\n",
    "        z = np.random.choice(xs_attachment_pt_range, size=1)\n",
    "        attachment_pt_list.append(z[0])\n",
    "\n",
    "print(attachment_pt_list)"
   ]
  },
  {
   "cell_type": "markdown",
   "id": "ba62ee9d",
   "metadata": {
    "hidden": true
   },
   "source": [
    "## Pricing "
   ]
  },
  {
   "cell_type": "code",
   "execution_count": null,
   "id": "c920ad1d",
   "metadata": {
    "hidden": true
   },
   "outputs": [],
   "source": [
    "pricing_list = []\n",
    "pricing_range = .05\n",
    "sme_pricing_low, sme_pricing_high = .01, .0125\n",
    "mm_pricing_low, mm_pricing_high = .0135, .015\n",
    "j_pricing_low, j_pricing_high = .035, .075\n",
    "low_ilf_5, high_ilf_10 = .65, .85\n",
    "low_ilf_10, high_ilf_15 = .4225, .7225\n",
    "\n",
    "for index, DV in enumerate(DV_list):\n",
    "    if DV > 10_000_000 and DV < 75_000_000:\n",
    "        pricing_list.append(round(random.uniform(sme_pricing_low, sme_pricing_high), 4)) \n",
    "    if DV > 75_000_000 and DV < 750_000_000:\n",
    "        pricing_list.append(round(random.uniform(mm_pricing_low, mm_pricing_high), 4)) \n",
    "    if DV > 750_000_000 and DV < 5_000_000_000:\n",
    "        if attachment_pt_list[index] < .01:\n",
    "            pricing_list.append(round(random.uniform(j_pricing_low, j_pricing_high), 4)) \n",
    "        if attachment_pt_list[index] > .049 and attachment_pt_list[index] < .101:\n",
    "            x = round(random.uniform(low_ilf_5, high_ilf_10), 2)\n",
    "            y = round(random.uniform(j_pricing_low, j_pricing_high)*x, 4)\n",
    "            pricing_list.append(y)\n",
    "        if attachment_pt_list[index] > .10 and attachment_pt_list[index] < .15:\n",
    "            x = round(random.uniform(low_ilf_10, high_ilf_15), 2)\n",
    "            y = round(random.uniform(j_pricing_low, j_pricing_high)*x, 4)\n",
    "            pricing_list.append(y)\n",
    "\n",
    "print(pricing_list)"
   ]
  },
  {
   "cell_type": "markdown",
   "id": "3c2a6f4f",
   "metadata": {
    "hidden": true
   },
   "source": [
    "## Notice / Severity"
   ]
  },
  {
   "cell_type": "code",
   "execution_count": null,
   "id": "676d5de9",
   "metadata": {
    "hidden": true
   },
   "outputs": [],
   "source": [
    "notice_list = []\n",
    "notice_pct = .2\n",
    "notice_pct_loss = .5\n",
    "low_severity_pct = .7\n",
    "med_severity_pct = .2\n",
    "high_severity_pct = .1\n",
    "\n",
    "for x in range(int(deal_count*notice_pct*notice_pct_loss)):\n",
    "    notice_list.append(1)\n",
    "    \n",
    "for x in range(int(deal_count*notice_pct*notice_pct_loss*low_severity_pct)):\n",
    "    notice_list.append(2)\n",
    "\n",
    "for x in range(int(deal_count*notice_pct*notice_pct_loss*med_severity_pct)):\n",
    "    notice_list.append(3)\n",
    "    \n",
    "for x in range(int(deal_count*notice_pct*notice_pct_loss*high_severity_pct)):\n",
    "    notice_list.append(4)\n",
    "    \n",
    "for x in range(int(deal_count*(1-notice_pct))):\n",
    "    notice_list.append(0)\n",
    "\n",
    "random.shuffle(notice_list)"
   ]
  },
  {
   "cell_type": "code",
   "execution_count": null,
   "id": "8c7f9896",
   "metadata": {
    "hidden": true
   },
   "outputs": [],
   "source": [
    "len(notice_list)"
   ]
  },
  {
   "cell_type": "code",
   "execution_count": null,
   "id": "131c7f95",
   "metadata": {
    "hidden": true
   },
   "outputs": [],
   "source": [
    "loss_list = []\n",
    "low_low_severity_loss, low_high_severity_loss = 0, 1_000_000\n",
    "med_low_severity_loss, med_high_severity_loss = 1_000_000, 10_000_000\n",
    "high_low_severity_loss = 10_000_000\n",
    "\n",
    "for index, notice in enumerate(notice_list):\n",
    "    if notice == 0:\n",
    "        loss_list.append(0) \n",
    "    if notice == 1:\n",
    "        loss_list.append(0) \n",
    "    if notice == 2:\n",
    "        loss_list.append(random.randrange(low_low_severity_loss, low_high_severity_loss)) \n",
    "    if notice == 3:\n",
    "        loss_list.append(random.randrange(med_low_severity_loss, med_high_severity_loss))\n",
    "    if notice == 4:\n",
    "        loss_list.append(random.randrange(high_low_severity_loss, DV_list[index]))"
   ]
  },
  {
   "cell_type": "code",
   "execution_count": null,
   "id": "db4e059f",
   "metadata": {
    "hidden": true
   },
   "outputs": [],
   "source": [
    "data_tuples = list(zip(DV_list,pricing_list,attachment_pt_list,notice_list,loss_list))"
   ]
  },
  {
   "cell_type": "code",
   "execution_count": null,
   "id": "b6a23e25",
   "metadata": {
    "hidden": true
   },
   "outputs": [],
   "source": [
    "df = pd.DataFrame(data_tuples, columns=['DV','RoL','Attachment_Pt_Pct','Notice','Loss_Amount'])"
   ]
  },
  {
   "cell_type": "code",
   "execution_count": null,
   "id": "a945d507",
   "metadata": {
    "hidden": true
   },
   "outputs": [],
   "source": [
    "low_limit = 30_000_000\n",
    "upper_limit = 50_000_000\n",
    "limit_range = 2_500_000\n",
    "\n",
    "df['Limit'] = df['DV'].apply(lambda x: x*.1 if x < 30_000_001 else random.randrange(low_limit, upper_limit, limit_range))\n",
    "df['Premium'] = df['Limit'] * df['RoL']\n",
    "df['Performance'] = df['Premium'] + df['Attachment_Pt_Pct'] - df['Loss_Amount']\n",
    "df['Attachment_Pt'] = df['DV']*df['Attachment_Pt_Pct']"
   ]
  },
  {
   "cell_type": "code",
   "execution_count": null,
   "id": "89c8c1ba",
   "metadata": {
    "hidden": true
   },
   "outputs": [],
   "source": [
    "df"
   ]
  },
  {
   "cell_type": "markdown",
   "id": "27349620",
   "metadata": {
    "heading_collapsed": true
   },
   "source": [
    "# IN PRACTICE"
   ]
  },
  {
   "cell_type": "markdown",
   "id": "1dfd5a56",
   "metadata": {
    "hidden": true
   },
   "source": [
    "##  - 1st EX"
   ]
  },
  {
   "cell_type": "code",
   "execution_count": null,
   "id": "ae6d2b71",
   "metadata": {
    "hidden": true
   },
   "outputs": [],
   "source": [
    "def my_distribution(min_val, max_val, mean, std):\n",
    "    scale = max_val - min_val\n",
    "    location = min_val\n",
    "    # Mean and standard deviation of the unscaled beta distribution\n",
    "    unscaled_mean = (mean - min_val) / scale\n",
    "    unscaled_var = (std / scale) ** 2\n",
    "    # Computation of alpha and beta can be derived from mean and variance formulas\n",
    "    t = unscaled_mean / (1 - unscaled_mean)\n",
    "    beta = ((t / unscaled_var) - (t * t) - (2 * t) - 1) / ((t * t * t) + (3 * t * t) + (3 * t) + 1)\n",
    "    alpha = beta * t\n",
    "    # Not all parameters may produce a valid distribution\n",
    "    if alpha <= 0 or beta <= 0:\n",
    "        raise ValueError('Cannot create distribution for the given parameters.')\n",
    "    # Make scaled beta distribution with computed parameters\n",
    "    return scipy.stats.beta(alpha, beta, scale=scale, loc=location)"
   ]
  },
  {
   "cell_type": "code",
   "execution_count": null,
   "id": "5f54e1e1",
   "metadata": {
    "hidden": true
   },
   "outputs": [],
   "source": [
    "all_stats = []\n",
    "num_simulations = 10000\n",
    "\n",
    "deal_count = 100\n",
    "DV_range = 2_500_000\n",
    "sme_low_DV, sme_upper_DV = 10_000_000, 75_000_000\n",
    "mm_low_DV, mm_upper_DV = 75_000_000, 750_000_000\n",
    "j_low_DV, j_upper_DV = 750_000_000, 5_000_000_000\n",
    "sme_pct = .35\n",
    "mm_pct = .55\n",
    "j_pct = .1\n",
    "\n",
    "pricing_range = .05\n",
    "sme_pricing_low, sme_pricing_high = .01, .0125\n",
    "mm_pricing_low, mm_pricing_high = .0135, .015\n",
    "j_pricing_low, j_pricing_high = .03, .075\n",
    "\n",
    "notice_pct = .25\n",
    "notice_pct_loss = .5\n",
    "low_severity_pct = .5\n",
    "med_severity_pct = .4\n",
    "high_severity_pct = .1\n",
    "\n",
    "low_low_severity_loss, low_high_severity_loss = 0, 1_000_000\n",
    "med_low_severity_loss, med_high_severity_loss = 1_000_000, 10_000_000\n",
    "high_low_severity_loss = 10_000_000\n",
    "\n",
    "low_limit = 30_000_000\n",
    "upper_limit = 50_000_000\n",
    "limit_range = 2_500_000\n",
    "\n",
    "\n",
    "for i in range(num_simulations):\n",
    "  \n",
    "    DV_list = []\n",
    "    for x in range(int(deal_count*sme_pct)):\n",
    "        DV_list.append(random.randrange(sme_low_DV, sme_upper_DV, DV_range)) \n",
    "    for x in range(int(deal_count*mm_pct)):\n",
    "        DV_list.append(random.randrange(mm_low_DV, mm_upper_DV, DV_range)) \n",
    "    for x in range(int(deal_count*j_pct)):\n",
    "        DV_list.append(random.randrange(j_low_DV, j_upper_DV, DV_range)) \n",
    "    random.shuffle(DV_list)    \n",
    "\n",
    "\n",
    "    pricing_list = []\n",
    "    for DV in DV_list:\n",
    "        if DV > 9_999_999 and DV < 75_000_001:\n",
    "            pricing_list.append(round(random.uniform(sme_pricing_low, sme_pricing_high), 4)) \n",
    "        if DV > 75_000_000 and DV < 750_000_001:\n",
    "            pricing_list.append(round(random.uniform(mm_pricing_low, mm_pricing_high), 4)) \n",
    "        if DV > 750_000_000 and DV < 5_000_000_001:\n",
    "            pricing_list.append(round(random.uniform(j_pricing_low, j_pricing_high), 4)) \n",
    "            \n",
    "            \n",
    "    attachment_pt_range = np.arange(0.0025, 0.005, 0.0005)\n",
    "    attachment_pt_list = np.random.choice(attachment_pt_range, size=deal_count)\n",
    "    \n",
    "    \n",
    "    notice_list = []\n",
    "    for x in range(int(deal_count*notice_pct*notice_pct_loss)):\n",
    "        notice_list.append(1)\n",
    "    for x in range(int(deal_count*notice_pct*notice_pct_loss*low_severity_pct)):\n",
    "        notice_list.append(2)\n",
    "    for x in range(int(deal_count*notice_pct*notice_pct_loss*med_severity_pct)):\n",
    "        notice_list.append(3)\n",
    "    for x in range(int(deal_count*notice_pct*notice_pct_loss*high_severity_pct)):\n",
    "        notice_list.append(4)\n",
    "    for x in range(int(deal_count*(1-notice_pct))):\n",
    "        notice_list.append(0)\n",
    "    random.shuffle(notice_list)\n",
    "    \n",
    "    \n",
    "    limit_list = []\n",
    "    for value in DV_list:\n",
    "        if value < 30_000_001:\n",
    "            limit_list.append(value)\n",
    "        else:\n",
    "            limit_list.append(random.randrange(low_limit, upper_limit, limit_range))\n",
    "    \n",
    "    \n",
    "    loss_list = []\n",
    "    for index, notice in enumerate(notice_list):\n",
    "        if notice == 0:\n",
    "            loss_list.append(0) \n",
    "        if notice == 1:\n",
    "            loss_list.append(0) \n",
    "        if notice == 2:\n",
    "            loss_list.append(random.randrange(low_low_severity_loss, low_high_severity_loss)) \n",
    "        if notice == 3:\n",
    "            loss_list.append(random.randrange(med_low_severity_loss, med_high_severity_loss))\n",
    "        if notice == 4:\n",
    "            if limit_list[index] > 10_000_000:\n",
    "                loss_list.append(random.randrange(high_low_severity_loss, limit_list[index]))\n",
    "            else:\n",
    "                loss_list.append(random.randrange(high_low_severity_loss, 10_000_001))\n",
    "            \n",
    "    data_tuples = list(zip(DV_list,pricing_list,attachment_pt_list,notice_list,loss_list,limit_list))\n",
    "    df = pd.DataFrame(data_tuples, columns=['DV','RoL','Attachment_Pt_Pct','Notice','Loss_Amount','Limit'])\n",
    "    df['Premium'] = df['Limit'] * df['RoL']\n",
    "    df['Attachment_Pt'] = df['DV']*df['Attachment_Pt_Pct']\n",
    "    df['Performance'] = df['Premium'] + df['Attachment_Pt_Pct'] - df['Loss_Amount']\n",
    "    \n",
    "    all_stats.append(df['Performance'].sum().round(0))\n",
    "    "
   ]
  },
  {
   "cell_type": "code",
   "execution_count": null,
   "id": "8ef31e6d",
   "metadata": {
    "hidden": true,
    "scrolled": true
   },
   "outputs": [],
   "source": [
    "sns.displot(all_stats, bins=100, kde=True);"
   ]
  },
  {
   "cell_type": "code",
   "execution_count": null,
   "id": "7f87c3e8",
   "metadata": {
    "hidden": true
   },
   "outputs": [],
   "source": [
    "print('Percentage of scenarios above 0:', len([i for i in all_stats if i > 0])/len(all_stats))"
   ]
  },
  {
   "cell_type": "markdown",
   "id": "93c2fafb",
   "metadata": {
    "heading_collapsed": true,
    "hidden": true
   },
   "source": [
    "##  - 2nd EX"
   ]
  },
  {
   "cell_type": "code",
   "execution_count": null,
   "id": "5498d63e",
   "metadata": {
    "hidden": true
   },
   "outputs": [],
   "source": [
    "def my_distribution(min_val, max_val, mean, std):\n",
    "    scale = max_val - min_val\n",
    "    location = min_val\n",
    "    # Mean and standard deviation of the unscaled beta distribution\n",
    "    unscaled_mean = (mean - min_val) / scale\n",
    "    unscaled_var = (std / scale) ** 2\n",
    "    # Computation of alpha and beta can be derived from mean and variance formulas\n",
    "    t = unscaled_mean / (1 - unscaled_mean)\n",
    "    beta = ((t / unscaled_var) - (t * t) - (2 * t) - 1) / ((t * t * t) + (3 * t * t) + (3 * t) + 1)\n",
    "    alpha = beta * t\n",
    "    # Not all parameters may produce a valid distribution\n",
    "    if alpha <= 0 or beta <= 0:\n",
    "        raise ValueError('Cannot create distribution for the given parameters.')\n",
    "    # Make scaled beta distribution with computed parameters\n",
    "    return scipy.stats.beta(alpha, beta, scale=scale, loc=location)"
   ]
  },
  {
   "cell_type": "code",
   "execution_count": null,
   "id": "6a4952ba",
   "metadata": {
    "hidden": true
   },
   "outputs": [],
   "source": [
    "all_stats = []\n",
    "num_simulations = 10000\n",
    "\n",
    "deal_count = 100\n",
    "DV_range = 2_500_000\n",
    "sme_low_DV, sme_upper_DV = 10_000_000, 75_000_000\n",
    "mm_low_DV, mm_upper_DV = 75_000_000, 750_000_000\n",
    "j_low_DV, j_upper_DV = 750_000_000, 5_000_000_000\n",
    "sme_pct = .35\n",
    "mm_pct = .55\n",
    "j_pct = .1\n",
    "\n",
    "pricing_range = .05\n",
    "sme_pricing_low, sme_pricing_high = .01, .0125\n",
    "mm_pricing_low, mm_pricing_high = .0135, .015\n",
    "j_pricing_low, j_pricing_high = .03, .075\n",
    "\n",
    "low_low_severity_loss, low_high_severity_loss = 0, 1_000_000\n",
    "med_low_severity_loss, med_high_severity_loss = 1_000_000, 10_000_000\n",
    "high_low_severity_loss = 10_000_000\n",
    "\n",
    "low_limit = 30_000_000\n",
    "upper_limit = 50_000_000\n",
    "limit_range = 2_500_000\n",
    "\n",
    "\n",
    "for i in range(num_simulations):\n",
    "    \n",
    "    min_val = .4\n",
    "    max_val = 1\n",
    "    low_severity_pct_mean = .7\n",
    "    low_severity_pct_std = .1\n",
    "\n",
    "    \n",
    "    severity_dist = my_distribution(min_val, max_val, low_severity_pct_mean, low_severity_pct_std)\n",
    "    sample = severity_dist.rvs(size=100000)\n",
    "    \n",
    "    \n",
    "    notice_pct_mu = .2\n",
    "    notice_pct_variance = 1\n",
    "    notice_pct_sigma = math.sqrt(notice_pct_variance)\n",
    "    x = np.linspace(notice_pct_mu - notice_pct_mu*notice_pct_sigma, notice_pct_mu + .8*notice_pct_sigma, 1000)\n",
    "    notice_pct = np.random.choice(x)\n",
    "    notice_pct_loss = .5\n",
    "    low_severity_pct = np.random.choice(sample)\n",
    "    a = np.random.random(1)[0]\n",
    "    med_severity_pct = (1 - low_severity_pct) * (a)\n",
    "    high_severity_pct = (1 - low_severity_pct) * (1-a)\n",
    "    \n",
    "  \n",
    "    DV_list = []\n",
    "    for x in range(int(deal_count*sme_pct)):\n",
    "        DV_list.append(random.randrange(sme_low_DV, sme_upper_DV, DV_range)) \n",
    "    for x in range(int(deal_count*mm_pct)):\n",
    "        DV_list.append(random.randrange(mm_low_DV, mm_upper_DV, DV_range)) \n",
    "    for x in range(int(deal_count*j_pct)):\n",
    "        DV_list.append(random.randrange(j_low_DV, j_upper_DV, DV_range)) \n",
    "    random.shuffle(DV_list)    \n",
    "\n",
    "\n",
    "    pricing_list = []\n",
    "    for DV in DV_list:\n",
    "        if DV > 9_999_999 and DV < 75_000_001:\n",
    "            pricing_list.append(round(random.uniform(sme_pricing_low, sme_pricing_high), 4)) \n",
    "        if DV > 75_000_000 and DV < 750_000_001:\n",
    "            pricing_list.append(round(random.uniform(mm_pricing_low, mm_pricing_high), 4)) \n",
    "        if DV > 750_000_000 and DV < 5_000_000_001:\n",
    "            pricing_list.append(round(random.uniform(j_pricing_low, j_pricing_high), 4)) \n",
    "            \n",
    "            \n",
    "    attachment_pt_range = np.arange(0.0025, 0.005, 0.0005)\n",
    "    attachment_pt_list = np.random.choice(attachment_pt_range, size=deal_count)\n",
    "    \n",
    "    \n",
    "    notice_list = []\n",
    "    for x in range(int(deal_count*notice_pct*notice_pct_loss)):\n",
    "        notice_list.append(1)\n",
    "    for x in range(int(deal_count*notice_pct*notice_pct_loss*low_severity_pct)):\n",
    "        notice_list.append(2)\n",
    "    for x in range(int(deal_count*notice_pct*notice_pct_loss*med_severity_pct)):\n",
    "        notice_list.append(3)\n",
    "    for x in range(int(deal_count*notice_pct*notice_pct_loss*high_severity_pct)):\n",
    "        notice_list.append(4)\n",
    "    for x in range(int(deal_count*(1-notice_pct))):\n",
    "        notice_list.append(0)\n",
    "    random.shuffle(notice_list)\n",
    "    \n",
    "    \n",
    "    limit_list = []\n",
    "    for value in DV_list:\n",
    "        if value < 30_000_001:\n",
    "            limit_list.append(value)\n",
    "        else:\n",
    "            limit_list.append(random.randrange(low_limit, upper_limit, limit_range))\n",
    "    \n",
    "    \n",
    "    loss_list = []\n",
    "    for index, notice in enumerate(notice_list):\n",
    "        if notice == 0:\n",
    "            loss_list.append(0) \n",
    "        if notice == 1:\n",
    "            loss_list.append(0) \n",
    "        if notice == 2:\n",
    "            loss_list.append(random.randrange(low_low_severity_loss, low_high_severity_loss)) \n",
    "        if notice == 3:\n",
    "            loss_list.append(random.randrange(med_low_severity_loss, med_high_severity_loss))\n",
    "        if notice == 4:\n",
    "            if limit_list[index] > 10_000_000:\n",
    "                loss_list.append(random.randrange(high_low_severity_loss, limit_list[index]))\n",
    "            else:\n",
    "                loss_list.append(random.randrange(high_low_severity_loss, 10_000_001))\n",
    "            \n",
    "    data_tuples = list(zip(DV_list,pricing_list,attachment_pt_list,notice_list,loss_list,limit_list))\n",
    "    df = pd.DataFrame(data_tuples, columns=['DV','RoL','Attachment_Pt_Pct','Notice','Loss_Amount','Limit'])\n",
    "    df['Premium'] = df['Limit'] * df['RoL']\n",
    "    df['Attachment_Pt'] = df['DV']*df['Attachment_Pt_Pct']\n",
    "    df['Performance'] = df['Premium'] + df['Attachment_Pt_Pct'] - df['Loss_Amount']\n",
    "    \n",
    "    all_stats.append(df['Performance'].sum().round(0))\n",
    "    "
   ]
  },
  {
   "cell_type": "code",
   "execution_count": null,
   "id": "1e5b19bf",
   "metadata": {
    "hidden": true
   },
   "outputs": [],
   "source": [
    "sns.displot(all_stats, bins=100, kde=True);"
   ]
  },
  {
   "cell_type": "code",
   "execution_count": null,
   "id": "32e6bfe9",
   "metadata": {
    "hidden": true
   },
   "outputs": [],
   "source": [
    "print('Percentage of scenarios above 0:', len([i for i in all_stats if i > 0])/len(all_stats))"
   ]
  },
  {
   "cell_type": "markdown",
   "id": "a2502170",
   "metadata": {
    "heading_collapsed": true,
    "hidden": true
   },
   "source": [
    "##  - 3rd EX"
   ]
  },
  {
   "cell_type": "code",
   "execution_count": null,
   "id": "9c2799a7",
   "metadata": {
    "hidden": true
   },
   "outputs": [],
   "source": [
    "# how to optimize primary / xs, rol \n",
    "\n",
    "all_stats = []\n",
    "num_simulations = 100_000\n",
    "\n",
    "#Should these numbers be changes? ie 001\n",
    "deal_count = 100\n",
    "DV_range = 2_500_000\n",
    "sme_low_DV, sme_upper_DV = 10_000_000, 75_000_000\n",
    "mm_low_DV, mm_upper_DV = 75_000_000, 750_000_000\n",
    "j_low_DV, j_upper_DV = 750_000_000, 5_000_000_000\n",
    "sme_pct = .35\n",
    "mm_pct = .55\n",
    "j_pct = .1\n",
    "\n",
    "pricing_range = .05\n",
    "sme_pricing_low, sme_pricing_high = .0125, .0145\n",
    "mm_pricing_low, mm_pricing_high = .0155, .0175\n",
    "j_pricing_low, j_pricing_high = .03, .075\n",
    "\n",
    "low_limit = 30_000_000\n",
    "upper_limit = 50_000_000\n",
    "limit_range = 2_500_000\n",
    "\n",
    "low_low_severity_loss, low_high_severity_loss = 0, 1_000_000\n",
    "med_low_severity_loss, med_high_severity_loss = 1_000_000, 10_000_000\n",
    "high_low_severity_loss = 10_000_000\n",
    "\n",
    "notice_pct_dist = np.random.triangular(.05, .15, .25, 100_000)\n",
    "notice_pct_loss_dist = np.random.triangular(.15, .25, .35, 100_000)\n",
    "severity_dist = np.random.triangular(.65, .7, .75, 100_000)\n",
    "\n",
    "\n",
    "for i in range(num_simulations):\n",
    "\n",
    "    \n",
    "    notice_pct = np.random.choice(notice_pct_dist)\n",
    "    notice_pct_loss = np.random.choice(notice_pct_loss_dist)\n",
    "    low_severity_pct = np.random.choice(severity_dist)\n",
    "    med_high_severity_pct_generator = np.random.random(1)[0]\n",
    "    med_severity_pct = (1 - low_severity_pct) * (med_high_severity_pct_generator)\n",
    "    high_severity_pct = (1 - low_severity_pct) * (1-med_high_severity_pct_generator)\n",
    "    \n",
    "\n",
    "    DV_list = []\n",
    "    for x in range(int(deal_count*sme_pct)):\n",
    "        DV_list.append(random.randrange(sme_low_DV, sme_upper_DV, DV_range)) \n",
    "    for x in range(int(deal_count*mm_pct)):\n",
    "        DV_list.append(random.randrange(mm_low_DV, mm_upper_DV, DV_range)) \n",
    "    for x in range(int(deal_count*j_pct)):\n",
    "        DV_list.append(random.randrange(j_low_DV, j_upper_DV, DV_range)) \n",
    "    random.shuffle(DV_list)    \n",
    "\n",
    "\n",
    "    pricing_list = []\n",
    "    for DV in DV_list:\n",
    "        if DV > 9_999_999 and DV < 75_000_001:\n",
    "            pricing_list.append(round(random.uniform(sme_pricing_low, sme_pricing_high), 4)) \n",
    "        if DV > 75_000_000 and DV < 750_000_001:\n",
    "            pricing_list.append(round(random.uniform(mm_pricing_low, mm_pricing_high), 4)) \n",
    "        if DV > 750_000_000 and DV < 5_000_000_001:\n",
    "            pricing_list.append(round(random.uniform(j_pricing_low, j_pricing_high), 4)) \n",
    "            \n",
    "            \n",
    "    attachment_pt_range = np.arange(0.0025, 0.005, 0.0005)\n",
    "    attachment_pt_list = np.random.choice(attachment_pt_range, size=deal_count)\n",
    "    \n",
    "\n",
    "# I think this might be wrong, 1 should be a sum of 2-4 - BIG POINT?\n",
    "    notice_list = []\n",
    "    for x in range(int(deal_count*notice_pct*notice_pct_loss)):\n",
    "        notice_list.append(1)\n",
    "    for x in range(int(deal_count*notice_pct*notice_pct_loss*low_severity_pct)):\n",
    "        notice_list.append(2)\n",
    "    for x in range(int(deal_count*notice_pct*notice_pct_loss*med_severity_pct)):\n",
    "        notice_list.append(3)\n",
    "    for x in range(int(deal_count*notice_pct*notice_pct_loss*high_severity_pct)):\n",
    "        notice_list.append(4)\n",
    "    for x in range(int(deal_count*(1-notice_pct))):\n",
    "        notice_list.append(0)\n",
    "    if 100 - len(notice_list) > 0:\n",
    "        for x in range(100 - len(notice_list)):\n",
    "            notice_list.append(randrange(5))\n",
    "    if 100 - len(notice_list) < 0:\n",
    "        for x in range(abs(100 - len(notice_list))):\n",
    "            notice_list.pop(randrange(len(notice_list)))\n",
    "    random.shuffle(notice_list)\n",
    "    \n",
    "    \n",
    "    limit_list = []\n",
    "    for value in DV_list:\n",
    "        if value < 30_000_001:\n",
    "            limit_list.append(random.randrange(value*.1, value*.2)) \n",
    "        else:\n",
    "            limit_list.append(random.randrange(low_limit, upper_limit, limit_range))\n",
    "    \n",
    "\n",
    "    loss_list = []\n",
    "    for index, notice in enumerate(notice_list):\n",
    "        if notice == 0:\n",
    "            loss_list.append(0) \n",
    "        if notice == 1:\n",
    "            loss_list.append(0) \n",
    "        if notice == 2:\n",
    "            loss_list.append(random.randrange(low_low_severity_loss, low_high_severity_loss)) \n",
    "        if notice == 3:\n",
    "            loss_list.append(random.randrange(med_low_severity_loss, med_high_severity_loss))\n",
    "        if notice == 4:\n",
    "            if limit_list[index] > 10_000_000:\n",
    "                loss_list.append(random.randrange(high_low_severity_loss, limit_list[index]))\n",
    "            else:\n",
    "                loss_list.append(random.randrange(high_low_severity_loss, 10_000_001))\n",
    "            \n",
    "    data_tuples = list(zip(DV_list,pricing_list,attachment_pt_list,notice_list,loss_list,limit_list))\n",
    "    df = pd.DataFrame(data_tuples, columns=['DV','RoL','Attachment_Pt_Pct','Notice','Loss_Amount','Limit'])\n",
    "    df['Premium'] = df['Limit'] * df['RoL']\n",
    "    df['Attachment_Pt'] = df['DV']*df['Attachment_Pt_Pct']\n",
    "    df['Performance'] = df['Premium'] + df['Attachment_Pt_Pct'] - df['Loss_Amount']\n",
    "    \n",
    "    all_stats.append(df['Performance'].sum().round(0))"
   ]
  },
  {
   "cell_type": "code",
   "execution_count": null,
   "id": "5d70b50c",
   "metadata": {
    "hidden": true,
    "scrolled": true
   },
   "outputs": [],
   "source": [
    "sns.displot(all_stats, bins=100, kde=True);"
   ]
  },
  {
   "cell_type": "code",
   "execution_count": null,
   "id": "1420f2e1",
   "metadata": {
    "hidden": true,
    "scrolled": true
   },
   "outputs": [],
   "source": [
    "print('Percentage of scenarios above 0:', len([i for i in all_stats if i > 0])/len(all_stats))\n",
    "print('Percentage of scenarios above 1m:', len([i for i in all_stats if i > 1_000_000])/len(all_stats))\n",
    "print('Percentage of scenarios above 10m:', len([i for i in all_stats if i > 10_000_000])/len(all_stats))\n",
    "print('Average:', round(sum(all_stats)/len(all_stats)))\n",
    "print('Max:', round(max(all_stats)))\n",
    "print('Min:', round(min(all_stats)))"
   ]
  },
  {
   "cell_type": "markdown",
   "id": "9bd63b08",
   "metadata": {
    "heading_collapsed": true,
    "hidden": true
   },
   "source": [
    "##  - 4th EX"
   ]
  },
  {
   "cell_type": "code",
   "execution_count": null,
   "id": "823327d4",
   "metadata": {
    "hidden": true
   },
   "outputs": [],
   "source": [
    "# how to optimize primary / xs, rol \n",
    "\n",
    "all_stats = []\n",
    "num_simulations = 10_000\n",
    "\n",
    "#Should these numbers be changes? ie 001\n",
    "deal_count = 100\n",
    "DV_range = 2_500_000\n",
    "sme_low_DV, sme_upper_DV = 10_000_000, 75_000_000\n",
    "mm_low_DV, mm_upper_DV = 75_000_000, 750_000_000\n",
    "j_low_DV, j_upper_DV = 750_000_000, 5_000_000_000\n",
    "sme_pct = .35\n",
    "mm_pct = .55\n",
    "j_pct = .1\n",
    "\n",
    "pricing_range = .05\n",
    "sme_pricing_low, sme_pricing_high = .01, .0125\n",
    "mm_pricing_low, mm_pricing_high = .0135, .015\n",
    "j_pricing_low, j_pricing_high = .035, .075\n",
    "low_ilf_5, high_ilf_10 = .65, .85\n",
    "low_ilf_10, high_ilf_15 = .4225, .7225\n",
    "\n",
    "primary_pct = .7\n",
    "xs_pct = .3\n",
    "pri_attachment_pt_range = np.arange(0.0025, 0.005, 0.0005)\n",
    "xs_attachment_pt_range = np.arange(0.05, 0.15, 0.025)\n",
    "\n",
    "low_limit = 30_000_000\n",
    "upper_limit = 50_000_000\n",
    "limit_range = 2_500_000\n",
    "\n",
    "low_low_severity_loss, low_high_severity_loss = 0, 1_000_000\n",
    "med_low_severity_loss, med_high_severity_loss = 1_000_000, 10_000_000\n",
    "high_low_severity_loss = 10_000_000\n",
    "\n",
    "notice_pct_dist = np.random.triangular(.05, .15, .25, 100_000)\n",
    "notice_pct_loss_dist = np.random.triangular(.15, .25, .35, 100_000)\n",
    "severity_dist = np.random.triangular(.65, .7, .75, 100_000)\n",
    "\n",
    "\n",
    "for i in range(num_simulations):\n",
    "\n",
    "    \n",
    "    notice_pct = np.random.choice(notice_pct_dist)\n",
    "    notice_pct_loss = np.random.choice(notice_pct_loss_dist)\n",
    "    low_severity_pct = np.random.choice(severity_dist)\n",
    "    med_high_severity_pct_generator = np.random.random(1)[0]\n",
    "    med_severity_pct = (1 - low_severity_pct) * (med_high_severity_pct_generator)\n",
    "    high_severity_pct = (1 - low_severity_pct) * (1-med_high_severity_pct_generator)\n",
    "    \n",
    "\n",
    "    DV_list = []\n",
    "    for x in range(int(deal_count*sme_pct)):\n",
    "        DV_list.append(random.randrange(sme_low_DV, sme_upper_DV, DV_range)) \n",
    "    for x in range(int(deal_count*mm_pct)):\n",
    "        DV_list.append(random.randrange(mm_low_DV, mm_upper_DV, DV_range)) \n",
    "    for x in range(int(deal_count*j_pct)):\n",
    "        DV_list.append(random.randrange(j_low_DV, j_upper_DV, DV_range)) \n",
    "    random.shuffle(DV_list)    \n",
    "\n",
    "\n",
    "    pricing_list = []\n",
    "    for index, DV in enumerate(DV_list):\n",
    "        if DV > 10_000_000 and DV < 75_000_000:\n",
    "            pricing_list.append(round(random.uniform(sme_pricing_low, sme_pricing_high), 4)) \n",
    "        if DV > 75_000_000 and DV < 750_000_000:\n",
    "            pricing_list.append(round(random.uniform(mm_pricing_low, mm_pricing_high), 4)) \n",
    "        if DV > 750_000_000 and DV < 5_000_000_000:\n",
    "            if attachment_pt_list[index] < .01:\n",
    "                pricing_list.append(round(random.uniform(j_pricing_low, j_pricing_high), 4)) \n",
    "            if attachment_pt_list[index] > .049 and attachment_pt_list[index] < .101:\n",
    "                x = round(random.uniform(low_ilf_5, high_ilf_10), 2)\n",
    "                y = round(random.uniform(j_pricing_low, j_pricing_high)*x, 4)\n",
    "                pricing_list.append(y)\n",
    "            if attachment_pt_list[index] > .10 and attachment_pt_list[index] < .15:\n",
    "                x = round(random.uniform(low_ilf_10, high_ilf_15), 2)\n",
    "                y = round(random.uniform(j_pricing_low, j_pricing_high)*x, 4)\n",
    "                pricing_list.append(y) \n",
    "            \n",
    "            \n",
    "    primary_xs_list = []\n",
    "    attachment_pt_list = []        \n",
    "    for dv in DV_list:\n",
    "        if dv > 750_000_000:\n",
    "            x = np.random.choice([0, 1], size=1, p=[primary_pct, xs_pct])\n",
    "            primary_xs_list.append(x[0])\n",
    "        else:\n",
    "            primary_xs_list.append(0)\n",
    "\n",
    "    for pri_v_xs in primary_xs_list:\n",
    "        if pri_v_xs == 0:\n",
    "            y = np.random.choice(pri_attachment_pt_range, size=1)\n",
    "            attachment_pt_list.append(y[0])\n",
    "        if pri_v_xs == 1:\n",
    "            z = np.random.choice(xs_attachment_pt_range, size=1)\n",
    "            attachment_pt_list.append(z[0])\n",
    "    \n",
    "\n",
    "    notice_list = []\n",
    "    for x in range(int(deal_count*notice_pct*notice_pct_loss)):\n",
    "        notice_list.append(1)\n",
    "    for x in range(int(deal_count*notice_pct*notice_pct_loss*low_severity_pct)):\n",
    "        notice_list.append(2)\n",
    "    for x in range(int(deal_count*notice_pct*notice_pct_loss*med_severity_pct)):\n",
    "        notice_list.append(3)\n",
    "    for x in range(int(deal_count*notice_pct*notice_pct_loss*high_severity_pct)):\n",
    "        notice_list.append(4)\n",
    "    for x in range(int(deal_count*(1-notice_pct))):\n",
    "        notice_list.append(0)\n",
    "    if 100 - len(notice_list) > 0:\n",
    "        for x in range(100 - len(notice_list)):\n",
    "            notice_list.append(randrange(5))\n",
    "    if 100 - len(notice_list) < 0:\n",
    "        for x in range(abs(100 - len(notice_list))):\n",
    "            notice_list.pop(randrange(len(notice_list)))\n",
    "    random.shuffle(notice_list)\n",
    "    \n",
    "    \n",
    "    limit_list = []\n",
    "    for value in DV_list:\n",
    "        if value < 30_000_001:\n",
    "            limit_list.append(random.randrange(value*.1, value*.2)) \n",
    "        else:\n",
    "            limit_list.append(random.randrange(low_limit, upper_limit, limit_range))\n",
    "    \n",
    "\n",
    "    loss_list = []\n",
    "    for index, notice in enumerate(notice_list):\n",
    "        if notice == 0:\n",
    "            loss_list.append(0) \n",
    "        if notice == 1:\n",
    "            loss_list.append(0) \n",
    "        if notice == 2:\n",
    "            loss_list.append(random.randrange(low_low_severity_loss, low_high_severity_loss)) \n",
    "        if notice == 3:\n",
    "            loss_list.append(random.randrange(med_low_severity_loss, med_high_severity_loss))\n",
    "        if notice == 4:\n",
    "            if limit_list[index] > 10_000_000:\n",
    "                loss_list.append(random.randrange(high_low_severity_loss, limit_list[index]))\n",
    "            else:\n",
    "                loss_list.append(random.randrange(high_low_severity_loss, 10_000_001))\n",
    "            \n",
    "    data_tuples = list(zip(DV_list,pricing_list,attachment_pt_list,notice_list,loss_list,limit_list))\n",
    "    df = pd.DataFrame(data_tuples, columns=['DV','RoL','Attachment_Pt_Pct','Notice','Loss_Amount','Limit'])\n",
    "    df['Premium'] = df['Limit'] * df['RoL']\n",
    "    df['Attachment_Pt'] = df['DV']*df['Attachment_Pt_Pct']\n",
    "    df['Performance'] = df['Premium'] + df['Attachment_Pt'] - df['Loss_Amount']\n",
    "    \n",
    "    all_stats.append(df['Performance'].sum().round(0))"
   ]
  },
  {
   "cell_type": "code",
   "execution_count": null,
   "id": "c012b247",
   "metadata": {
    "hidden": true
   },
   "outputs": [],
   "source": [
    "sns.displot(all_stats, bins=100, kde=True);"
   ]
  },
  {
   "cell_type": "code",
   "execution_count": null,
   "id": "62b82e86",
   "metadata": {
    "hidden": true
   },
   "outputs": [],
   "source": [
    "print('Percentage of scenarios above 0:', len([i for i in all_stats if i > 0])/len(all_stats))\n",
    "print('Percentage of scenarios above 1m:', len([i for i in all_stats if i > 1_000_000])/len(all_stats))\n",
    "print('Percentage of scenarios above 10m:', len([i for i in all_stats if i > 10_000_000])/len(all_stats))\n",
    "print('Average:', round(sum(all_stats)/len(all_stats)))\n",
    "print('Max:', round(max(all_stats)))\n",
    "print('Min:', round(min(all_stats)))"
   ]
  },
  {
   "cell_type": "code",
   "execution_count": null,
   "id": "437e903c",
   "metadata": {
    "hidden": true
   },
   "outputs": [],
   "source": [
    "df"
   ]
  },
  {
   "cell_type": "markdown",
   "id": "08794ec4",
   "metadata": {},
   "source": [
    "# FUNCTIONS"
   ]
  },
  {
   "cell_type": "markdown",
   "id": "8613ffe7",
   "metadata": {},
   "source": [
    "## Workbook"
   ]
  },
  {
   "cell_type": "code",
   "execution_count": 2,
   "id": "2f70d810",
   "metadata": {},
   "outputs": [],
   "source": [
    "def severity_generator(notice_pct_dist, notice_pct_loss_dist, severity_dist):\n",
    "    notice_pct = np.random.choice(notice_pct_dist)\n",
    "    notice_pct_loss = np.random.choice(notice_pct_loss_dist)\n",
    "    low_severity_pct = np.random.choice(severity_dist)\n",
    "    med_high_severity_pct_generator = np.random.random(1)[0]\n",
    "    med_severity_pct = (1 - low_severity_pct) * (med_high_severity_pct_generator)\n",
    "    high_severity_pct = (1 - low_severity_pct) * (1-med_high_severity_pct_generator)\n",
    "    return notice_pct, notice_pct_loss, low_severity_pct, med_severity_pct, high_severity_pct\n",
    "    \n",
    "    \n",
    "notice_pct_dist = np.random.triangular(.05, .15, .25, 100_000)\n",
    "notice_pct_loss_dist = np.random.triangular(.15, .25, .35, 100_000)\n",
    "severity_dist = np.random.triangular(.65, .7, .75, 100_000)\n",
    "\n",
    "notice_pct, notice_pct_loss, low_severity_pct, med_severity_pct, high_severity_pct = severity_generator(notice_pct_dist, notice_pct_loss_dist, severity_dist)"
   ]
  },
  {
   "cell_type": "code",
   "execution_count": 3,
   "id": "682b14ad",
   "metadata": {},
   "outputs": [
    {
     "data": {
      "text/plain": [
       "(0.13960837122305036,\n",
       " 0.21265103248019923,\n",
       " 0.6576376405328771,\n",
       " 0.07647879191340605,\n",
       " 0.26588356755371684)"
      ]
     },
     "execution_count": 3,
     "metadata": {},
     "output_type": "execute_result"
    }
   ],
   "source": [
    "notice_pct, notice_pct_loss, low_severity_pct, med_severity_pct, high_severity_pct"
   ]
  },
  {
   "cell_type": "code",
   "execution_count": 47,
   "id": "e840146b",
   "metadata": {},
   "outputs": [],
   "source": [
    "def DV_generator(deal_count, DV_range, sme_low_DV, sme_upper_DV, mm_low_DV, mm_upper_DV, sme_pct, mm_pct, j_pct):\n",
    "    DV_list = []\n",
    "    sme_count = int(deal_count*sme_pct)\n",
    "    mm_count = int(deal_count*mm_pct)\n",
    "    j_count = int(deal_count*j_pct)\n",
    "    for x in range(sme_count):\n",
    "        DV_list.append(random.randrange(sme_low_DV, sme_upper_DV, DV_range)) \n",
    "    for x in range(mm_count):\n",
    "        DV_list.append(random.randrange(mm_low_DV, mm_upper_DV, DV_range)) \n",
    "    for x in range(j_count):\n",
    "        DV_list.append(random.randrange(j_low_DV, j_upper_DV, DV_range))\n",
    "    random.shuffle(DV_list)  \n",
    "    if (sme_count + mm_count + j_count) != deal_count:\n",
    "        for i in range(deal_count - len(DV_list)):\n",
    "            x = random.randrange(1, 4)\n",
    "            if x == 1:\n",
    "                DV_list.append(random.randrange(sme_low_DV, sme_upper_DV, DV_range)) \n",
    "            if x == 2:\n",
    "                DV_list.append(random.randrange(mm_low_DV, mm_upper_DV, DV_range))\n",
    "            if x == 3:\n",
    "                DV_list.append(random.randrange(j_low_DV, j_upper_DV, DV_range))\n",
    "    return DV_list\n",
    "\n",
    "deal_count = 10\n",
    "DV_range = 2_500_000\n",
    "sme_low_DV, sme_upper_DV = 10_000_000, 75_000_000\n",
    "mm_low_DV, mm_upper_DV = 75_000_000, 750_000_000\n",
    "j_low_DV, j_upper_DV = 750_000_000, 5_000_000_000\n",
    "sme_pct = .35\n",
    "mm_pct = .55\n",
    "j_pct = .1\n",
    "\n",
    "DV_list = DV_generator(deal_count, DV_range, sme_low_DV, sme_upper_DV, mm_low_DV, mm_upper_DV, sme_pct, mm_pct, j_pct)"
   ]
  },
  {
   "cell_type": "code",
   "execution_count": 48,
   "id": "a2766c5d",
   "metadata": {},
   "outputs": [
    {
     "data": {
      "text/plain": [
       "10"
      ]
     },
     "execution_count": 48,
     "metadata": {},
     "output_type": "execute_result"
    }
   ],
   "source": [
    "len(DV_list)"
   ]
  },
  {
   "cell_type": "code",
   "execution_count": null,
   "id": "51d58492",
   "metadata": {},
   "outputs": [],
   "source": [
    "def attachment_pt_generator(DV_list, primary_pct, xs_pct, pri_attachment_pt_range, xs_attachment_pt_range):    \n",
    "    primary_xs_list = []\n",
    "    attachment_pt_list = []        \n",
    "    for dv in DV_list:\n",
    "        if dv > 750_000_000:\n",
    "            x = np.random.choice([0, 1], size=1, p=[primary_pct, xs_pct])\n",
    "            primary_xs_list.append(x[0])\n",
    "        else:\n",
    "            primary_xs_list.append(0)\n",
    "\n",
    "    for pri_v_xs in primary_xs_list:\n",
    "        if pri_v_xs == 0:\n",
    "            y = np.random.choice(pri_attachment_pt_range, size=1)\n",
    "            attachment_pt_list.append(y[0])\n",
    "        if pri_v_xs == 1:\n",
    "            z = np.random.choice(xs_attachment_pt_range, size=1)\n",
    "            attachment_pt_list.append(z[0])\n",
    "    return attachment_pt_list\n",
    "\n",
    "primary_pct = .5\n",
    "xs_pct = .5    \n",
    "pri_attachment_pt_range = np.arange(0.0025, 0.005, 0.0005)\n",
    "xs_attachment_pt_range = np.arange(0.05, 0.15, 0.025)\n",
    "\n",
    "attachment_pt_list = attachment_pt_generator(DV_list, primary_pct, xs_pct, pri_attachment_pt_range, xs_attachment_pt_range)"
   ]
  },
  {
   "cell_type": "code",
   "execution_count": null,
   "id": "1802a534",
   "metadata": {},
   "outputs": [],
   "source": [
    "len(attachment_pt_list)"
   ]
  },
  {
   "cell_type": "code",
   "execution_count": null,
   "id": "cd7c53e9",
   "metadata": {},
   "outputs": [],
   "source": [
    "def pricing_generator(DV_list, pricing_range, sme_pricing_low, sme_pricing_high, mm_pricing_low, mm_pricing_high, j_pricing_low, j_pricing_high, low_ilf_5, high_ilf_10, low_ilf_10, high_ilf_15):\n",
    "    pricing_list = []\n",
    "    for index, DV in enumerate(DV_list):\n",
    "        if DV > 10_000_000 and DV < 75_000_001:\n",
    "            pricing_list.append(round(random.uniform(sme_pricing_low, sme_pricing_high), 4)) \n",
    "        if DV > 75_000_000 and DV < 750_000_001:\n",
    "            pricing_list.append(round(random.uniform(mm_pricing_low, mm_pricing_high), 4)) \n",
    "        if DV > 750_000_000 and DV < 2_000_000_001:\n",
    "            if attachment_pt_list[index] < .01:\n",
    "                pricing_list.append(round(random.uniform(j_pricing_low, j_pricing_high), 4)) \n",
    "            if attachment_pt_list[index] > .049 and attachment_pt_list[index] < .101:\n",
    "                x = round(random.uniform(low_ilf_5, high_ilf_10), 2)\n",
    "                y = round(random.uniform(j_pricing_low, j_pricing_high)*x, 4)\n",
    "                pricing_list.append(y)\n",
    "            if attachment_pt_list[index] > .10 and attachment_pt_list[index] < .15:\n",
    "                x = round(random.uniform(low_ilf_10, high_ilf_15), 2)\n",
    "                y = round(random.uniform(j_pricing_low, j_pricing_high)*x, 4)\n",
    "                pricing_list.append(y) \n",
    "        if DV > 2_000_000_000 and DV < 5_000_000_001:\n",
    "            if attachment_pt_list[index] < .01:\n",
    "                pricing_list.append(round(random.uniform(j_pricing_low, j_pricing_high), 4)) \n",
    "            if attachment_pt_list[index] > .049 and attachment_pt_list[index] < .101:\n",
    "                x = round(random.uniform(low_ilf_5, high_ilf_10), 2)\n",
    "                y = round(random.uniform(j_pricing_low, j_pricing_high)*x, 4)\n",
    "                pricing_list.append(y)\n",
    "            if attachment_pt_list[index] > .10 and attachment_pt_list[index] < .15:\n",
    "                x = round(random.uniform(low_ilf_10*.5, high_ilf_15*.5), 2)\n",
    "                y = round(random.uniform(j_pricing_low, j_pricing_high)*x, 4)\n",
    "                pricing_list.append(y) \n",
    "    return pricing_list\n",
    "\n",
    "pricing_range = .05\n",
    "sme_pricing_low, sme_pricing_high = .01, .0125\n",
    "mm_pricing_low, mm_pricing_high = .0135, .015\n",
    "j_pricing_low, j_pricing_high = .035, .075\n",
    "low_ilf_5, high_ilf_10 = .65, .85\n",
    "low_ilf_10, high_ilf_15 = .4225, .7225\n",
    "\n",
    "pricing_list = pricing_generator(DV_list, pricing_range, sme_pricing_low, sme_pricing_high, mm_pricing_low, mm_pricing_high, j_pricing_low, j_pricing_high, low_ilf_5, high_ilf_10, low_ilf_10, high_ilf_15)"
   ]
  },
  {
   "cell_type": "code",
   "execution_count": null,
   "id": "6981e677",
   "metadata": {},
   "outputs": [],
   "source": [
    "len(pricing_list)"
   ]
  },
  {
   "cell_type": "code",
   "execution_count": null,
   "id": "3b8c5d0a",
   "metadata": {},
   "outputs": [],
   "source": [
    "def limit_generator(DV_list, low_limit, upper_limit, limit_range):\n",
    "    limit_list = []\n",
    "    for value in DV_list:\n",
    "        if value < 30_000_001:\n",
    "            limit_list.append(random.randrange(value*.1, value*.2)) \n",
    "        else:\n",
    "            limit_list.append(random.randrange(low_limit, upper_limit, limit_range))\n",
    "    return limit_list\n",
    "\n",
    "low_limit = 30_000_000\n",
    "upper_limit = 50_000_000\n",
    "limit_range = 2_500_000\n",
    "\n",
    "limit_list = limit_generator(DV_list, low_limit, upper_limit, limit_range)"
   ]
  },
  {
   "cell_type": "code",
   "execution_count": null,
   "id": "94e7d807",
   "metadata": {},
   "outputs": [],
   "source": [
    "limit_list"
   ]
  },
  {
   "cell_type": "code",
   "execution_count": null,
   "id": "bf015c00",
   "metadata": {},
   "outputs": [],
   "source": [
    "def notice_generator(deal_count, notice_pct, notice_pct_loss, low_severity_pct, med_severity_pct, high_severity_pct):\n",
    "    notice_list = []\n",
    "    for x in range(int(deal_count*notice_pct*notice_pct_loss)):\n",
    "        notice_list.append(1)\n",
    "    for x in range(int(deal_count*notice_pct*notice_pct_loss*low_severity_pct)):\n",
    "        notice_list.append(2)\n",
    "    for x in range(int(deal_count*notice_pct*notice_pct_loss*med_severity_pct)):\n",
    "        notice_list.append(3)\n",
    "    for x in range(int(deal_count*notice_pct*notice_pct_loss*high_severity_pct)):\n",
    "        notice_list.append(4)\n",
    "    for x in range(int(deal_count*(1-notice_pct))):\n",
    "        notice_list.append(0)\n",
    "    if 100 - len(notice_list) > 0:\n",
    "        for x in range(deal_count - len(notice_list)):\n",
    "            notice_list.append(randrange(5))\n",
    "    if 100 - len(notice_list) < 0:\n",
    "        for x in range(abs(deal_count - len(notice_list))):\n",
    "            notice_list.pop(randrange(len(notice_list)))\n",
    "    random.shuffle(notice_list)\n",
    "    return notice_list \n",
    "\n",
    "notice_list = notice_generator(deal_count, notice_pct, notice_pct_loss, low_severity_pct, med_severity_pct, high_severity_pct)"
   ]
  },
  {
   "cell_type": "code",
   "execution_count": null,
   "id": "0635e463",
   "metadata": {},
   "outputs": [],
   "source": [
    "notice_list"
   ]
  },
  {
   "cell_type": "code",
   "execution_count": null,
   "id": "cbee22d1",
   "metadata": {},
   "outputs": [],
   "source": [
    "def loss_generator(notice_list, limit_list, low_low_severity_loss, low_high_severity_loss, med_low_severity_loss, med_high_severity_loss):\n",
    "    loss_list = []\n",
    "    for index, notice in enumerate(notice_list):\n",
    "        if notice == 0:\n",
    "            loss_list.append(0) \n",
    "        if notice == 1:\n",
    "            loss_list.append(0) \n",
    "        if notice == 2:\n",
    "            loss_list.append(random.randrange(low_low_severity_loss, low_high_severity_loss)) \n",
    "        if notice == 3:\n",
    "            loss_list.append(random.randrange(med_low_severity_loss, med_high_severity_loss))\n",
    "        if notice == 4:\n",
    "            if limit_list[index] > 10_000_000:\n",
    "                loss_list.append(random.randrange(high_low_severity_loss, limit_list[index]))\n",
    "            else:\n",
    "                loss_list.append(random.randrange(high_low_severity_loss, 10_000_001))\n",
    "    return loss_list\n",
    "\n",
    "low_low_severity_loss, low_high_severity_loss = 0, 1_000_000\n",
    "med_low_severity_loss, med_high_severity_loss = 1_000_000, 10_000_000\n",
    "high_low_severity_loss = 10_000_000\n",
    "\n",
    "loss_list = loss_generator(notice_list, limit_list, low_low_severity_loss, low_high_severity_loss, med_low_severity_loss, med_high_severity_loss)"
   ]
  },
  {
   "cell_type": "code",
   "execution_count": null,
   "id": "e44cfd15",
   "metadata": {},
   "outputs": [],
   "source": [
    "loss_list"
   ]
  },
  {
   "cell_type": "code",
   "execution_count": null,
   "id": "89a191e8",
   "metadata": {},
   "outputs": [],
   "source": [
    "def performance(df):\n",
    "    if df['Attachment_Pt'] - df['Loss_Amount'] >= 0:\n",
    "            df['Performance'] = df['Premium']\n",
    "    if df['Attachment_Pt'] - df['Loss_Amount'] <= 0:\n",
    "        df['Performance'] = df['Premium'] + df['Attachment_Pt'] - df['Loss_Amount']\n",
    "    return df['Performance']\n",
    "\n",
    "def df_generator(DV_list,pricing_list,attachment_pt_list,notice_list,loss_list,limit_list):\n",
    "    data_tuples = list(zip(DV_list,pricing_list,attachment_pt_list,notice_list,loss_list,limit_list))\n",
    "    df = pd.DataFrame(data_tuples, columns=['DV','RoL','Attachment_Pt_Pct','Notice','Loss_Amount','Limit'])\n",
    "    df['Premium'] = df['Limit'] * df['RoL']\n",
    "    df['Attachment_Pt'] = df['DV']*df['Attachment_Pt_Pct']\n",
    "    df['Performance'] = df.apply(performance, axis=1)\n",
    "    return df"
   ]
  },
  {
   "cell_type": "code",
   "execution_count": null,
   "id": "29fed240",
   "metadata": {},
   "outputs": [],
   "source": [
    "def formatted(number):\n",
    "    return (\"{:,}\".format(number))"
   ]
  },
  {
   "cell_type": "markdown",
   "id": "7e3c6825",
   "metadata": {
    "heading_collapsed": true
   },
   "source": [
    "## Functions pulled together"
   ]
  },
  {
   "cell_type": "code",
   "execution_count": null,
   "id": "1a5e5985",
   "metadata": {
    "hidden": true
   },
   "outputs": [],
   "source": [
    "num_simulations = 1_000\n",
    "performance_stats = []\n",
    "\n",
    "notice_pct_dist = np.random.triangular(.05, .15, .25, 100_000)\n",
    "notice_pct_loss_dist = np.random.triangular(.15, .25, .35, 100_000)\n",
    "severity_dist = np.random.triangular(.65, .75, .85, 100_000)\n",
    "\n",
    "deal_count = 100\n",
    "DV_range = 2_500_000\n",
    "sme_low_DV, sme_upper_DV = 10_000_000, 75_000_000\n",
    "mm_low_DV, mm_upper_DV = 75_000_000, 750_000_000\n",
    "j_low_DV, j_upper_DV = 750_000_000, 5_000_000_000\n",
    "sme_pct = .35\n",
    "mm_pct = .55\n",
    "j_pct = .1\n",
    "\n",
    "primary_pct = .7\n",
    "xs_pct = .3    \n",
    "pri_attachment_pt_range = np.arange(0.0025, 0.005, 0.0005)\n",
    "xs_attachment_pt_range = np.arange(0.05, 0.15, 0.025)\n",
    "\n",
    "pricing_range = .05\n",
    "sme_pricing_low, sme_pricing_high = .012, .0145\n",
    "mm_pricing_low, mm_pricing_high = .0135, .0165\n",
    "j_pricing_low, j_pricing_high = .035, .075\n",
    "low_ilf_5, high_ilf_10 = .65, .85\n",
    "low_ilf_10, high_ilf_15 = .4225, .7225\n",
    "\n",
    "low_limit = 30_000_000\n",
    "upper_limit = 50_000_000\n",
    "limit_range = 2_500_000\n",
    "\n",
    "low_low_severity_loss, low_high_severity_loss = 0, 1_000_000\n",
    "med_low_severity_loss, med_high_severity_loss = 1_000_000, 10_000_000\n",
    "high_low_severity_loss = 10_000_000\n",
    "\n",
    "for i in range(num_simulations):\n",
    "    notice_pct, notice_pct_loss, low_severity_pct, med_severity_pct, high_severity_pct = severity_generator(notice_pct_dist, notice_pct_loss_dist, severity_dist)\n",
    "    DV_list = DV_generator(deal_count, DV_range, sme_low_DV, sme_upper_DV, mm_low_DV, mm_upper_DV, sme_pct, mm_pct, j_pct)\n",
    "    attachment_pt_list = attachment_pt_generator(DV_list, primary_pct, xs_pct, pri_attachment_pt_range, xs_attachment_pt_range)\n",
    "    pricing_list = pricing_generator(DV_list, pricing_range, sme_pricing_low, sme_pricing_high, mm_pricing_low, mm_pricing_high, j_pricing_low, j_pricing_high, low_ilf_5, high_ilf_10, low_ilf_10, high_ilf_15)\n",
    "    limit_list = limit_generator(DV_list, low_limit, upper_limit, limit_range)\n",
    "    notice_list = notice_generator(deal_count, notice_pct, notice_pct_loss, low_severity_pct, med_severity_pct, high_severity_pct)\n",
    "    loss_list = loss_generator(notice_list, limit_list, low_low_severity_loss, low_high_severity_loss, med_low_severity_loss, med_high_severity_loss)\n",
    "    df = df_generator(DV_list,pricing_list,attachment_pt_list,notice_list,loss_list,limit_list)\n",
    "    performance_stats.append(df['Performance'].sum().round(0))\n",
    "sns.displot(performance_stats, bins=100, kde=True);\n",
    "\n",
    "print('Percentage of scenarios above 0:', len([i for i in performance_stats if i > 0])/len(performance_stats))\n",
    "print('Percentage of scenarios above 1m:', len([i for i in performance_stats if i > 1_000_000])/len(performance_stats))\n",
    "print('Percentage of scenarios above 10m:', len([i for i in performance_stats if i > 10_000_000])/len(performance_stats))\n",
    "print('Average:', round(sum(performance_stats)/len(performance_stats)))\n",
    "print('Max:', round(max(performance_stats)))\n",
    "print('Min:', round(min(performance_stats)))"
   ]
  },
  {
   "cell_type": "code",
   "execution_count": null,
   "id": "2b053b5a",
   "metadata": {
    "hidden": true
   },
   "outputs": [],
   "source": [
    "p_25 = np.percentile(np.asarray(performance_stats), 25)\n",
    "p_50 = np.percentile(np.asarray(performance_stats), 50)\n",
    "p_75 = np.percentile(np.asarray(performance_stats), 75)\n",
    "\n",
    "print(p_25, p_50, p_75)"
   ]
  },
  {
   "cell_type": "code",
   "execution_count": null,
   "id": "7ec98cfb",
   "metadata": {
    "hidden": true
   },
   "outputs": [],
   "source": [
    "notice_pct, notice_pct_loss, low_severity_pct, med_severity_pct, high_severity_pct = severity_generator(notice_pct_dist, notice_pct_loss_dist, severity_dist)\n",
    "DV_list = DV_generator(deal_count, DV_range, sme_low_DV, sme_upper_DV, mm_low_DV, mm_upper_DV, sme_pct, mm_pct, j_pct)\n",
    "attachment_pt_list = attachment_pt_generator(DV_list, primary_pct, xs_pct, pri_attachment_pt_range, xs_attachment_pt_range)\n",
    "pricing_list = pricing_generator(DV_list, pricing_range, sme_pricing_low, sme_pricing_high, mm_pricing_low, mm_pricing_high, j_pricing_low, j_pricing_high, low_ilf_5, high_ilf_10, low_ilf_10, high_ilf_15)\n",
    "limit_list = limit_generator(DV_list, low_limit, upper_limit, limit_range)\n",
    "notice_list = notice_generator(deal_count, notice_pct, notice_pct_loss, low_severity_pct, med_severity_pct, high_severity_pct)\n",
    "loss_list = loss_generator(notice_list, limit_list, low_low_severity_loss, low_high_severity_loss, med_low_severity_loss, med_high_severity_loss)\n",
    "df = df_generator(DV_list,pricing_list,attachment_pt_list,notice_list,loss_list,limit_list)\n",
    "df"
   ]
  },
  {
   "cell_type": "code",
   "execution_count": null,
   "id": "4560893a",
   "metadata": {
    "hidden": true,
    "scrolled": true
   },
   "outputs": [],
   "source": [
    "num_simulations = 100_000\n",
    "agg_performance_stats = []\n",
    "agg_premium_stats = []\n",
    "agg_limit_stats = []\n",
    "\n",
    "notice_pct_dist = np.random.triangular(.05, .15, .25, 100_000)\n",
    "notice_pct_loss_dist = np.random.triangular(.15, .25, .35, 100_000)\n",
    "severity_dist = np.random.triangular(.65, .7, .75, 100_000)\n",
    "\n",
    "deal_count = 100\n",
    "DV_range = 2_500_000\n",
    "sme_low_DV, sme_upper_DV = 10_000_000, 75_000_000\n",
    "mm_low_DV, mm_upper_DV = 75_000_000, 750_000_000\n",
    "j_low_DV, j_upper_DV = 750_000_000, 5_000_000_000\n",
    "sme_pct = .35\n",
    "mm_pct = .55\n",
    "j_pct = .1\n",
    "\n",
    "primary_pct = .35\n",
    "xs_pct = .65    \n",
    "pri_attachment_pt_range = np.arange(0.0025, 0.005, 0.0005)\n",
    "xs_attachment_pt_range = np.arange(0.05, 0.15, 0.025)\n",
    "\n",
    "pricing_range = .05\n",
    "sme_pricing_low, sme_pricing_high = .01, .0125\n",
    "mm_pricing_low, mm_pricing_high = .0125, .0145\n",
    "j_pricing_low, j_pricing_high = .025, .055\n",
    "low_ilf_5, high_ilf_10 = .65, .85\n",
    "low_ilf_10, high_ilf_15 = .4225, .7225\n",
    "\n",
    "low_limit = 30_000_000\n",
    "upper_limit = 50_000_000\n",
    "limit_range = 2_500_000\n",
    "\n",
    "low_low_severity_loss, low_high_severity_loss = 0, 1_000_000\n",
    "med_low_severity_loss, med_high_severity_loss = 1_000_000, 10_000_000\n",
    "high_low_severity_loss = 10_000_000\n",
    "\n",
    "pricing_range = ['BASE', 'BASE +20%', 'BASE +40%']\n",
    "\n",
    "for price in pricing_range:\n",
    "    performance_stats = []\n",
    "    premium_stats = []\n",
    "    limit_stats = []\n",
    "    for i in range(num_simulations):\n",
    "#        if i % 5_000 == 0:\n",
    "#            now = datetime.now()\n",
    "#            current_time = now.strftime(\"%H:%M:%S\")\n",
    "#            print(\"Current Time =\", current_time, i)\n",
    "        notice_pct, notice_pct_loss, low_severity_pct, med_severity_pct, high_severity_pct = severity_generator(notice_pct_dist, notice_pct_loss_dist, severity_dist)\n",
    "        DV_list = DV_generator(deal_count, DV_range, sme_low_DV, sme_upper_DV, mm_low_DV, mm_upper_DV, sme_pct, mm_pct, j_pct)\n",
    "        attachment_pt_list = attachment_pt_generator(DV_list, primary_pct, xs_pct, pri_attachment_pt_range, xs_attachment_pt_range)\n",
    "        pricing_list = pricing_generator(DV_list, pricing_range, sme_pricing_low, sme_pricing_high, mm_pricing_low, mm_pricing_high, j_pricing_low, j_pricing_high, low_ilf_5, high_ilf_10, low_ilf_10, high_ilf_15)\n",
    "        limit_list = limit_generator(DV_list, low_limit, upper_limit, limit_range)\n",
    "        notice_list = notice_generator(deal_count, notice_pct, notice_pct_loss, low_severity_pct, med_severity_pct, high_severity_pct)\n",
    "        loss_list = loss_generator(notice_list, limit_list, low_low_severity_loss, low_high_severity_loss, med_low_severity_loss, med_high_severity_loss)\n",
    "        df = df_generator(DV_list,pricing_list,attachment_pt_list,notice_list,loss_list,limit_list)\n",
    "        performance_stats.append(df['Performance'].sum().round(0))\n",
    "        premium_stats.append(df['Premium'].sum().round(0))\n",
    "        limit_stats.append(df['Limit'].mean().round(0))\n",
    "    agg_performance_stats.append(performance_stats)\n",
    "    agg_premium_stats.append(premium_stats)\n",
    "    agg_limit_stats.append(limit_stats)\n",
    "    \n",
    "    print()\n",
    "    print(f'******************  {price}  ******************')\n",
    "    above_0 = round(len([i for i in performance_stats if i > 0])/len(performance_stats), 3)\n",
    "    print(f'Percentage of scenarios above 0: {above_0}%')\n",
    "    above_1m = round(len([i for i in performance_stats if i > 1_000_000])/len(performance_stats), 3)\n",
    "    print(f'Percentage of scenarios above 1m: {above_1m}%')\n",
    "    above_10m = round(len([i for i in performance_stats if i > 10_000_000])/len(performance_stats), 3)\n",
    "    print(f'Percentage of scenarios above 10m: {above_10m}%')\n",
    "    print('-')\n",
    "    print('Average Profit:', formatted(round(sum(performance_stats)/len(performance_stats))))\n",
    "    print('Max Profit:', formatted(round(max(performance_stats))))\n",
    "    print('Min Profit:', formatted(round(min(performance_stats))))\n",
    "    p_25 = np.percentile(np.asarray(performance_stats), 25)\n",
    "    p_50 = np.percentile(np.asarray(performance_stats), 50)\n",
    "    p_75 = np.percentile(np.asarray(performance_stats), 75)\n",
    "    print(f'25% = {formatted(round(p_25))}')\n",
    "    print(f'50% = {formatted(round(p_50))}')\n",
    "    print(f'75% = {formatted(round(p_75))}')\n",
    "    print('-')\n",
    "    avg_total_premium = (sum(premium_stats) / len(premium_stats))\n",
    "    print(f'Avg Total Premium: {formatted(round(avg_total_premium))}')\n",
    "    avg_limit = (sum(limit_stats) / len(limit_stats))\n",
    "    print(f'Avg Limit: {formatted(round(avg_limit))}')\n",
    "    print(f'Avg Coverage: {round(int(avg_total_premium) / int(avg_limit), 3)}')\n",
    "    print()\n",
    "    print('** - - - END - - - **')\n",
    "    print()\n",
    "    \n",
    "    sme_pricing_low, sme_pricing_high = sme_pricing_low*1.2, sme_pricing_high*1.2\n",
    "    mm_pricing_low, mm_pricing_high = mm_pricing_low*1.2, mm_pricing_high*1.2\n",
    "    j_pricing_low, j_pricing_high = j_pricing_low*1.2, j_pricing_high*1.2"
   ]
  },
  {
   "cell_type": "code",
   "execution_count": null,
   "id": "d1283c27",
   "metadata": {
    "hidden": true
   },
   "outputs": [],
   "source": [
    "for index, stats in enumerate(agg_performance_stats):\n",
    "    sns.displot(stats, bins=100, kde=True)\n",
    "    plt.title(f\"Monte Carlo Loss/Claims Scenario {pricing_range[index]}\")\n",
    "    plt.xlabel(\"Peformance (profit in 10's of MM)\")\n",
    "    plt.ylabel(\"Performance Count\")\n",
    "    a=np.percentile(np.asarray(stats), 25)\n",
    "    plt.axvline(a, linewidth=2, color='black')\n",
    "    plt.text(x=a, y=100, s='25%')\n",
    "    b=np.percentile(np.asarray(stats), 50)\n",
    "    plt.axvline(b, linewidth=2, color='greenyellow')\n",
    "    plt.text(x=b, y=150, s='50%')\n",
    "    c=np.percentile(np.asarray(stats), 75)\n",
    "    plt.axvline(c, linewidth=2, color='lime')\n",
    "    plt.text(x=c, y=200, s='75%')\n",
    "    plt.legend((formatted(round(a)), formatted(round(b)), formatted(round(c))), loc=\"upper left\")"
   ]
  },
  {
   "cell_type": "code",
   "execution_count": null,
   "id": "c651cd40",
   "metadata": {
    "hidden": true
   },
   "outputs": [],
   "source": [
    "df['RoL'].mean()"
   ]
  },
  {
   "cell_type": "code",
   "execution_count": null,
   "id": "4db5f99a",
   "metadata": {
    "hidden": true
   },
   "outputs": [],
   "source": [
    "df['WP'] = df['RoL'] * (df['Limit'] / df['Limit'].sum())"
   ]
  },
  {
   "cell_type": "code",
   "execution_count": null,
   "id": "ed504fd9",
   "metadata": {
    "hidden": true
   },
   "outputs": [],
   "source": [
    "df['WP'].sum()"
   ]
  },
  {
   "cell_type": "code",
   "execution_count": null,
   "id": "e4c5576e",
   "metadata": {
    "hidden": true
   },
   "outputs": [],
   "source": [
    "df['Attachment_Pt_Pct'].mean()"
   ]
  },
  {
   "cell_type": "markdown",
   "id": "5986630c",
   "metadata": {
    "heading_collapsed": true
   },
   "source": [
    "# SINGLE DEAL MC"
   ]
  },
  {
   "cell_type": "code",
   "execution_count": null,
   "id": "24874519",
   "metadata": {
    "hidden": true
   },
   "outputs": [],
   "source": [
    "sd_notice_pct_dist = np.random.triangular(.05, .15, .25, 100_000)\n",
    "sd_notice_pct_loss_dist = np.random.triangular(.15, .25, .35, 100_000)\n",
    "sd_severity_dist = np.random.triangular(.65, .7, .75, 100_000)"
   ]
  },
  {
   "cell_type": "code",
   "execution_count": null,
   "id": "73fc0edb",
   "metadata": {
    "hidden": true
   },
   "outputs": [],
   "source": [
    "dc = 100\n",
    "notices_pct = np.random.choice(np.random.triangular(.05, .15, .25, 100_000),1)"
   ]
  },
  {
   "cell_type": "code",
   "execution_count": null,
   "id": "258639ed",
   "metadata": {
    "hidden": true
   },
   "outputs": [],
   "source": [
    "notifications_by_ind = {\n",
    "    'industrials': .20,\n",
    "    'healthcare': .19,\n",
    "    'consumer discretionary': .14,\n",
    "    'information tech': .12,\n",
    "    'real estate': .1,\n",
    "    'materials': .07,\n",
    "    'consumer staples': .07,\n",
    "    'utilities': .05,\n",
    "    'financials': .03,\n",
    "    'energy': .02,\n",
    "    'communnication services': .01 \n",
    "}"
   ]
  },
  {
   "cell_type": "code",
   "execution_count": null,
   "id": "8dbea79f",
   "metadata": {
    "hidden": true
   },
   "outputs": [],
   "source": [
    "deal_stats = []\n",
    "deal_simulations = 10_000\n",
    "dc = 100\n",
    "sd_notice_pct_dist = np.random.triangular(.05, .15, .25, 100_000)\n",
    "sd_severity_dist = np.random.triangular(.65, .75, .85, 100_000)\n",
    "max_limit = 50_000_000\n",
    "\n",
    "low_low_severity_loss, low_high_severity_loss = 0, 1_000_000\n",
    "med_low_severity_loss, med_high_severity_loss = 1_000_000, 10_000_000\n",
    "high_low_severity_loss, high_high_severity_loss = 10_000_000, max_limit\n",
    "\n",
    "for i in range(deal_simulations):\n",
    "    sd_notice_pct_dist = np.random.triangular(.05, .15, .25, 100_000)\n",
    "    notices_pct = np.random.choice(sd_notice_pct_dist,1)\n",
    "    risk_of_notice_pct = ((dc*notices_pct) / dc)* notifications_by_ind['industrials']\n",
    "    risk_of_notice_pct = risk_of_notice_pct[0]\n",
    "    no_notice_pct = 1 - risk_of_notice_pct\n",
    "    notice = np.random.choice([0, 1], size=1, p=[no_notice_pct, risk_of_notice_pct])\n",
    "    if notice == 0:\n",
    "        deal_stats.append(0)\n",
    "    if notice == 1:\n",
    "        low_severity_pct = np.random.choice(sd_severity_dist)\n",
    "        med_high_severity_pct_generator = np.random.random(1)[0]\n",
    "        med_severity_pct = (1 - low_severity_pct) * (med_high_severity_pct_generator)\n",
    "        high_severity_pct = (1 - low_severity_pct) * (1-med_high_severity_pct_generator)\n",
    "        loss_gen = np.random.choice([1, 2, 3], size=1, p=[low_severity_pct, med_severity_pct, high_severity_pct])\n",
    "        if loss_gen == 1:\n",
    "            x = random.randrange(low_low_severity_loss, low_high_severity_loss)\n",
    "        if loss_gen == 2:\n",
    "            x = random.randrange(med_low_severity_loss, med_high_severity_loss)\n",
    "        if loss_gen == 3:\n",
    "            x = random.randrange(high_low_severity_loss, high_high_severity_loss)\n",
    "        deal_stats.append(x)\n",
    "\n",
    "print('Avg:', formatted(round(sum(deal_stats) / len(deal_stats))))\n",
    "print('Max:', formatted(round(max(deal_stats))))\n",
    "print('Min:', formatted(round(min(deal_stats))))\n",
    "print(f'Min RoL: {((sum(deal_stats) / len(deal_stats)))/max_limit}%')"
   ]
  },
  {
   "cell_type": "code",
   "execution_count": null,
   "id": "61c540c8",
   "metadata": {
    "hidden": true
   },
   "outputs": [],
   "source": [
    "breach_of_warranty_freq = {\n",
    "    'tax': .35, \n",
    "    'accounting and financial': .13,\n",
    "    'litigation': .10,\n",
    "    'permits, licenses and consents': .08,\n",
    "    'shares': .06,\n",
    "    'compliance with laws': .05,\n",
    "    'material contracts': .05,\n",
    "    'real estate': .05,\n",
    "    'employee related': .03,\n",
    "    'IT': .03,\n",
    "    'other': .01\n",
    "}\n",
    "\n",
    "high_severity_freq = {\n",
    "    'accounting and financial': .41,\n",
    "    'material contracts': .18,\n",
    "    'litigation': .07,\n",
    "    'compliance with laws': .04,\n",
    "    'IP': .04,\n",
    "    'IT': .04,\n",
    "    'permits, licenses and consents': .04,\n",
    "    'real esate': .04,\n",
    "    'shares': .04,\n",
    "    'tax': .04,\n",
    "    'assets': .03,\n",
    "    'changes since accounts date': .03 \n",
    "}\n",
    "\n",
    "med_severity_freq = {\n",
    "    'accounting and financial': .31,\n",
    "    'tax': .18,\n",
    "    'material contracts': .13,\n",
    "    'employee related': .1,\n",
    "    'assets': .08,\n",
    "    'litigation': .08,\n",
    "    'compliance with laws': .05,\n",
    "    'regulatory': .03,\n",
    "    'IT': .02,\n",
    "    'other': .02\n",
    "}"
   ]
  },
  {
   "cell_type": "code",
   "execution_count": null,
   "id": "3b3a91a9",
   "metadata": {
    "hidden": true
   },
   "outputs": [],
   "source": [
    "loss_gen"
   ]
  },
  {
   "cell_type": "markdown",
   "id": "977939fe",
   "metadata": {
    "heading_collapsed": true
   },
   "source": [
    "# CLASSES"
   ]
  },
  {
   "cell_type": "markdown",
   "id": "0c33fee6",
   "metadata": {
    "heading_collapsed": true,
    "hidden": true
   },
   "source": [
    "## Class TEST"
   ]
  },
  {
   "cell_type": "code",
   "execution_count": null,
   "id": "4a17500f",
   "metadata": {
    "hidden": true
   },
   "outputs": [],
   "source": [
    "class Simulation(object):\n",
    "\n",
    "    def __init__(self, **kwargs):\n",
    "        prop_defaults = {\n",
    "        'notice_pct_dist': np.random.triangular(.05, .15, .25, 100_000),\n",
    "        'notice_pct_loss_dist': np.random.triangular(.15, .25, .35, 100_000),\n",
    "        'severity_dist': np.random.triangular(.65, .7, .75, 100_000),\n",
    "        'deal_count': 100,\n",
    "        'DV_range': 2_500_000,\n",
    "        'sme_low_DV': 10_000_000,\n",
    "        'sme_upper_DV': 75_000_000,\n",
    "        'mm_low_DV': 75_000_000, \n",
    "        'mm_upper_DV': 750_000_000,\n",
    "        'j_low_DV': 750_000_000, \n",
    "        'j_upper_DV': 5_000_000_000,\n",
    "        'sme_pct': .35,\n",
    "        'mm_pct': .55,\n",
    "        'j_pct': .1,\n",
    "        'primary_pct': .35,\n",
    "        'xs_pct': .65,    \n",
    "        'pri_attachment_pt_range': np.arange(0.0025, 0.005, 0.0005),\n",
    "        'xs_attachment_pt_range': np.arange(0.05, 0.15, 0.025),\n",
    "        'pricing_range': .05,\n",
    "        'sme_pricing_low': .01, \n",
    "        'sme_pricing_high': .0125,\n",
    "        'mm_pricing_low': .0125, \n",
    "        'mm_pricing_high': .0145,\n",
    "        'j_pricing_low': .025,  \n",
    "        'j_pricing_high': .055,\n",
    "        'low_ilf_5': .65, \n",
    "        'high_ilf_10': .85,\n",
    "        'low_ilf_10': .4225,  \n",
    "        'high_ilf_15': .7225,\n",
    "        'low_limit': 30_000_000,\n",
    "        'upper_limit': 50_000_000,\n",
    "        'limit_range': 2_500_000,\n",
    "        'low_low_severity_loss': 0, \n",
    "        'low_high_severity_loss': 1_000_000,\n",
    "        'med_low_severity_loss': 1_000_000, \n",
    "        'med_high_severity_loss': 10_000_000,\n",
    "        'high_low_severity_loss': 10_000_000\n",
    "        }\n",
    "        \n",
    "        for (prop, default) in prop_defaults.items():\n",
    "            setattr(self, prop, kwargs.get(prop, default))\n",
    "        \n",
    "    def severity_generator(self):  \n",
    "        notice_pct = np.random.choice(self.notice_pct_dist)\n",
    "        notice_pct_loss = np.random.choice(self.notice_pct_loss_dist)\n",
    "        low_severity_pct = np.random.choice(self.severity_dist)\n",
    "        med_high_severity_pct_generator = np.random.random(1)[0]\n",
    "        med_severity_pct = (1 - low_severity_pct) * (med_high_severity_pct_generator)\n",
    "        high_severity_pct = (1 - low_severity_pct) * (1-med_high_severity_pct_generator)\n",
    "        return notice_pct, notice_pct_loss, low_severity_pct, med_severity_pct, high_severity_pct\n",
    "        \n",
    "    def DV_generator(self):\n",
    "        DV_list = []\n",
    "        for x in range(int(self.deal_count*self.sme_pct)):\n",
    "            DV_list.append(random.randrange(self.sme_low_DV, self.sme_upper_DV, self.DV_range)) \n",
    "        for x in range(int(self.deal_count*self.mm_pct)):\n",
    "            DV_list.append(random.randrange(self.mm_low_DV, self.mm_upper_DV, self.DV_range)) \n",
    "        for x in range(int(self.deal_count*self.j_pct)):\n",
    "            DV_list.append(random.randrange(self.j_low_DV, self.j_upper_DV, self.DV_range)) \n",
    "        random.shuffle(DV_list)  \n",
    "        return DV_list\n",
    "        \n",
    "    def attachment_pt_generator(self):    \n",
    "        DV_list = self.DV_generator()\n",
    "        primary_xs_list = []\n",
    "        attachment_pt_list = []        \n",
    "        for dv in DV_list:\n",
    "            if dv > 750_000_000:\n",
    "                x = np.random.choice([0, 1], size=1, p=[self.primary_pct, self.xs_pct])\n",
    "                primary_xs_list.append(x[0])\n",
    "            else:\n",
    "                primary_xs_list.append(0)\n",
    "        for pri_v_xs in primary_xs_list:\n",
    "            if pri_v_xs == 0:\n",
    "                y = np.random.choice(self.pri_attachment_pt_range, size=1)\n",
    "                attachment_pt_list.append(y[0])\n",
    "            if pri_v_xs == 1:\n",
    "                z = np.random.choice(self.xs_attachment_pt_range, size=1)\n",
    "                attachment_pt_list.append(z[0])\n",
    "        return attachment_pt_list\n",
    "    \n",
    "    def pricing_generator(self):\n",
    "        DV_list = self.DV_generator()\n",
    "        attachment_pt_list = self.attachment_pt_generator()\n",
    "        pricing_list = []\n",
    "        for index, DV in enumerate(DV_list):\n",
    "            if DV > 9_999_999 and DV < 75_000_001:\n",
    "                pricing_list.append(round(random.uniform(self.sme_pricing_low, self.sme_pricing_high), 4)) \n",
    "            if DV > 75_000_001 and DV < 750_000_001:\n",
    "                pricing_list.append(round(random.uniform(self.mm_pricing_low, self.mm_pricing_high), 4)) \n",
    "            if DV > 750_000_001 and DV < 2_000_000_001:\n",
    "                if attachment_pt_list[index] < .01:\n",
    "                    pricing_list.append(round(random.uniform(self.j_pricing_low, self.j_pricing_high), 4)) \n",
    "                if attachment_pt_list[index] > .049 and attachment_pt_list[index] < .101:\n",
    "                    x = round(random.uniform(low_ilf_5, high_ilf_10), 2)\n",
    "                    y = round(random.uniform(self.j_pricing_low, self.j_pricing_high)*x, 4)\n",
    "                    pricing_list.append(y)\n",
    "                if attachment_pt_list[index] > .10 and attachment_pt_list[index] < .15:\n",
    "                    x = round(random.uniform(self.low_ilf_10, self.high_ilf_15), 2)\n",
    "                    y = round(random.uniform(self.j_pricing_low, self.j_pricing_high)*x, 4)\n",
    "                    pricing_list.append(y) \n",
    "            if DV > 2_000_000_001 and DV < 5_000_000_001:\n",
    "                if attachment_pt_list[index] < .01:\n",
    "                    pricing_list.append(round(random.uniform(self.j_pricing_low, self.j_pricing_high), 4)) \n",
    "                if attachment_pt_list[index] > .049 and attachment_pt_list[index] < .101:\n",
    "                    x = round(random.uniform(self.low_ilf_5, self.high_ilf_10), 2)\n",
    "                    y = round(random.uniform(self.j_pricing_low, self.j_pricing_high)*x, 4)\n",
    "                    pricing_list.append(y)\n",
    "                if attachment_pt_list[index] > .10 and attachment_pt_list[index] < .5:\n",
    "                    x = round(random.uniform(self.low_ilf_10*.5, self.high_ilf_15*.5), 2)\n",
    "                    y = round(random.uniform(self.j_pricing_low, self.j_pricing_high)*x, 4)\n",
    "                    pricing_list.append(y) \n",
    "        return pricing_list\n",
    "    \n",
    "    def limit_generator(self):\n",
    "        DV_list = self.DV_generator()\n",
    "        limit_list = []\n",
    "        for value in DV_list:\n",
    "            if value < 30_000_001:\n",
    "                limit_list.append(random.randrange(value*.1, value*.2)) \n",
    "            else:\n",
    "                limit_list.append(random.randrange(self.low_limit, self.upper_limit, self.limit_range))\n",
    "        return limit_list\n",
    "    \n",
    "    def notice_generator(self):\n",
    "        notice_pct, notice_pct_loss, low_severity_pct, med_severity_pct, high_severity_pct = self.severity_generator()\n",
    "        notice_list = []\n",
    "        for x in range(int(self.deal_count*notice_pct*notice_pct_loss)):\n",
    "            notice_list.append(1)\n",
    "        for x in range(int(self.deal_count*notice_pct*notice_pct_loss*low_severity_pct)):\n",
    "            notice_list.append(2)\n",
    "        for x in range(int(self.deal_count*notice_pct*notice_pct_loss*med_severity_pct)):\n",
    "            notice_list.append(3)\n",
    "        for x in range(int(self.deal_count*notice_pct*notice_pct_loss*high_severity_pct)):\n",
    "            notice_list.append(4)\n",
    "        for x in range(int(self.deal_count*(1-notice_pct))):\n",
    "            notice_list.append(0)\n",
    "        if 100 - len(notice_list) > 0:\n",
    "            for x in range(self.deal_count - len(notice_list)):\n",
    "                notice_list.append(randrange(5))\n",
    "        if 100 - len(notice_list) < 0:\n",
    "            for x in range(abs(self.deal_count - len(notice_list))):\n",
    "                notice_list.pop(randrange(len(notice_list)))\n",
    "        random.shuffle(notice_list)\n",
    "        return notice_list\n",
    "    \n",
    "    def loss_generator(self):\n",
    "        notice_list = self.notice_generator()\n",
    "        limit_list = self.limit_generator()\n",
    "        loss_list = []\n",
    "        for index, notice in enumerate(notice_list):\n",
    "            if notice == 0:\n",
    "                loss_list.append(0) \n",
    "            if notice == 1:\n",
    "                loss_list.append(0) \n",
    "            if notice == 2:\n",
    "                loss_list.append(random.randrange(self.low_low_severity_loss, self.low_high_severity_loss)) \n",
    "            if notice == 3:\n",
    "                loss_list.append(random.randrange(self.med_low_severity_loss, self.med_high_severity_loss))\n",
    "            if notice == 4:\n",
    "                if limit_list[index] > 10_000_000:\n",
    "                    loss_list.append(random.randrange(self.high_low_severity_loss, limit_list[index]))\n",
    "                else:\n",
    "                    loss_list.append(random.randrange(self.high_low_severity_loss, 10_000_001))\n",
    "        return loss_list\n",
    "    \n",
    "    def performance(df):\n",
    "        if df['Attachment_Pt'] - df['Loss_Amount'] >= 0:\n",
    "                df['Performance'] = df['Premium']\n",
    "        if df['Attachment_Pt'] - df['Loss_Amount'] <= 0:\n",
    "            df['Performance'] = df['Premium'] + df['Attachment_Pt'] - df['Loss_Amount']\n",
    "        return df['Performance']\n",
    "\n",
    "    def df_generator(self):\n",
    "        DV_list = self.df_generator()\n",
    "        loss_list = self.loss_generator()\n",
    "        notice_list = self.notice_generator()\n",
    "        limit_list = self.limit_generator()\n",
    "        pricing_list = self.pricing_generator()\n",
    "        attachment_pt_list = self.attachment_pt_generator()\n",
    "        data_tuples = list(zip(DV_list,pricing_list,attachment_pt_list,notice_list,loss_list,limit_list))\n",
    "        df = pd.DataFrame(data_tuples, columns=['DV','RoL','Attachment_Pt_Pct','Notice','Loss_Amount','Limit'])\n",
    "        df['Premium'] = df['Limit'] * df['RoL']\n",
    "        df['Attachment_Pt'] = df['DV']*df['Attachment_Pt_Pct']\n",
    "        df['Performance'] = df.apply(performance, axis=1)\n",
    "        print(len(DV_list),len(pricing_list),len(attachment_pt_list),len(notice_list),len(loss_list),len(limit_list))\n",
    "        return df"
   ]
  },
  {
   "cell_type": "markdown",
   "id": "66fe982c",
   "metadata": {
    "hidden": true
   },
   "source": [
    "## Class IMPLEMENTATION"
   ]
  },
  {
   "cell_type": "code",
   "execution_count": null,
   "id": "61879fae",
   "metadata": {
    "hidden": true
   },
   "outputs": [],
   "source": [
    "class Simulation(object):\n",
    "\n",
    "    def __init__(self, name, dist, **kwargs):\n",
    "        self.name = name\n",
    "        self.dist = dist\n",
    "        prop_defaults = {\n",
    "        'tri_notice_pct_dist': np.random.triangular(0, .15, 1, 100_000),\n",
    "        'tri_notice_pct_loss_dist': np.random.triangular(0, .25, 1, 100_000),\n",
    "        'tri_severity_dist': np.random.triangular(0, .7, 1, 100_000),\n",
    "        'norm_notice_pct_dist_mean' : .15,\n",
    "        'norm_notice_pct_dist_std' : .1,\n",
    "        'norm_notice_pct_loss_dist_mean' : .25,\n",
    "        'norm_notice_pct_loss_dist_std' : .1,\n",
    "        'norm_low_severity_pct_mean' : .7,\n",
    "        'norm_low_severity_pct_std' : .1,\n",
    "        'deal_count': 100,\n",
    "        'DV_range': 2_500_000,\n",
    "        'sme_low_DV': 10_000_000,\n",
    "        'sme_upper_DV': 75_000_000,\n",
    "        'mm_low_DV': 75_000_000, \n",
    "        'mm_upper_DV': 750_000_000,\n",
    "        'j_low_DV': 750_000_000, \n",
    "        'j_upper_DV': 5_000_000_000,\n",
    "        'sme_pct': .35,\n",
    "        'mm_pct': .55,\n",
    "        'j_pct': .1,\n",
    "        'primary_pct': .65,\n",
    "        'xs_pct': .35,    \n",
    "        'pri_attachment_pt_range': np.arange(0.0025, 0.005, 0.0005),\n",
    "        'xs_attachment_pt_range': np.arange(0.05, 0.15, 0.025),\n",
    "        'pricing_range': .05,\n",
    "        'sme_pricing_low': .01, \n",
    "        'sme_pricing_high': .0125,\n",
    "        'mm_pricing_low': .0125, \n",
    "        'mm_pricing_high': .0145,\n",
    "        'j_pricing_low': .025,  \n",
    "        'j_pricing_high': .055,\n",
    "        'low_ilf_5': .65, \n",
    "        'high_ilf_10': .85,\n",
    "        'low_ilf_10': .4225,  \n",
    "        'high_ilf_15': .7225,\n",
    "        'low_limit': 30_000_000,\n",
    "        'upper_limit': 50_000_000,\n",
    "        'limit_range': 2_500_000,\n",
    "        'low_low_severity_loss': 0, \n",
    "        'low_high_severity_loss': 1_000_000,\n",
    "        'med_low_severity_loss': 1_000_000, \n",
    "        'med_high_severity_loss': 10_000_000,\n",
    "        'high_low_severity_loss': 10_000_000\n",
    "        }\n",
    "        \n",
    "        for (prop, default) in prop_defaults.items():\n",
    "            setattr(self, prop, kwargs.get(prop, default))\n",
    "\n",
    "        \n",
    "    def severity_generator(self):  \n",
    "        \n",
    "        if self.dist == 'triangle':\n",
    "            notice_pct = np.random.choice(self.tri_notice_pct_dist)\n",
    "            notice_pct_loss = np.random.choice(self.tri_notice_pct_loss_dist)\n",
    "            low_severity_pct = np.random.choice(self.tri_severity_dist)\n",
    "            med_high_severity_pct_generator = np.random.random(1)[0]\n",
    "            med_severity_pct = (1 - low_severity_pct) * (med_high_severity_pct_generator)\n",
    "            high_severity_pct = (1 - low_severity_pct) * (1-med_high_severity_pct_generator)\n",
    "            return notice_pct, notice_pct_loss, low_severity_pct, med_severity_pct, high_severity_pct\n",
    "        \n",
    "        if self.dist == 'normal':\n",
    "            min_val = 0\n",
    "            max_val = 1\n",
    "            \n",
    "            mean = self.norm_notice_pct_dist_mean\n",
    "            std = self.norm_notice_pct_dist_std\n",
    "            scale = max_val - min_val\n",
    "            location = min_val\n",
    "            unscaled_mean = (mean - min_val) / scale\n",
    "            unscaled_var = (std / scale) ** 2\n",
    "            t = unscaled_mean / (1 - unscaled_mean)\n",
    "            beta = ((t / unscaled_var) - (t * t) - (2 * t) - 1) / ((t * t * t) + (3 * t * t) + (3 * t) + 1)\n",
    "            alpha = beta * t\n",
    "            if alpha <= 0 or beta <= 0:\n",
    "                raise ValueError('Cannot create distribution for the given parameters.')\n",
    "            notice_pct_dist = scipy.stats.beta(alpha, beta, scale=scale, loc=location)\n",
    "            notice_pct_dist_sample = notice_pct_dist.rvs(size=100000)\n",
    "            notice_pct = np.random.choice(notice_pct_dist_sample)\n",
    "            \n",
    "            mean = self.norm_notice_pct_loss_dist_mean\n",
    "            std = self.norm_notice_pct_loss_dist_std\n",
    "            scale = max_val - min_val\n",
    "            location = min_val\n",
    "            unscaled_mean = (mean - min_val) / scale\n",
    "            unscaled_var = (std / scale) ** 2\n",
    "            t = unscaled_mean / (1 - unscaled_mean)\n",
    "            beta = ((t / unscaled_var) - (t * t) - (2 * t) - 1) / ((t * t * t) + (3 * t * t) + (3 * t) + 1)\n",
    "            alpha = beta * t\n",
    "            if alpha <= 0 or beta <= 0:\n",
    "                raise ValueError('Cannot create distribution for the given parameters.')\n",
    "            notice_pct_loss_dist = scipy.stats.beta(alpha, beta, scale=scale, loc=location)\n",
    "            notice_pct_loss_dist_sample = notice_pct_loss_dist.rvs(size=100000)\n",
    "            notice_pct_loss = np.random.choice(notice_pct_loss_dist_sample)\n",
    "            \n",
    "            mean = self.norm_low_severity_pct_mean\n",
    "            std = self.norm_low_severity_pct_std\n",
    "            scale = max_val - min_val\n",
    "            location = min_val\n",
    "            unscaled_mean = (mean - min_val) / scale\n",
    "            unscaled_var = (std / scale) ** 2\n",
    "            t = unscaled_mean / (1 - unscaled_mean)\n",
    "            beta = ((t / unscaled_var) - (t * t) - (2 * t) - 1) / ((t * t * t) + (3 * t * t) + (3 * t) + 1)\n",
    "            alpha = beta * t\n",
    "            if alpha <= 0 or beta <= 0:\n",
    "                raise ValueError('Cannot create distribution for the given parameters.')\n",
    "            low_severity_pct_dist = scipy.stats.beta(alpha, beta, scale=scale, loc=location)\n",
    "            low_severity_pct_dist_sample = notice_pct_loss_dist.rvs(size=100000)\n",
    "            low_severity_pct = np.random.choice(low_severity_pct_dist_sample)\n",
    "            \n",
    "            med_high_severity_pct_generator = np.random.random(1)[0]\n",
    "            med_severity_pct = (1 - low_severity_pct) * (med_high_severity_pct_generator)\n",
    "            high_severity_pct = (1 - low_severity_pct) * (1-med_high_severity_pct_generator)\n",
    "            \n",
    "            return notice_pct, notice_pct_loss, low_severity_pct, med_severity_pct, high_severity_pct\n",
    "\n",
    "        \n",
    "    def main_generator(self):\n",
    "        \n",
    "        notice_pct, notice_pct_loss, low_severity_pct, med_severity_pct, high_severity_pct = self.severity_generator()\n",
    "\n",
    "            \n",
    "        DV_list = []\n",
    "        for x in range(int(self.deal_count*self.sme_pct)):\n",
    "            DV_list.append(random.randrange(self.sme_low_DV, self.sme_upper_DV, self.DV_range)) \n",
    "        for x in range(int(self.deal_count*self.mm_pct)):\n",
    "            DV_list.append(random.randrange(self.mm_low_DV, self.mm_upper_DV, self.DV_range)) \n",
    "        for x in range(int(self.deal_count*self.j_pct)):\n",
    "            DV_list.append(random.randrange(self.j_low_DV, self.j_upper_DV, self.DV_range)) \n",
    "        random.shuffle(DV_list)  \n",
    "        \n",
    "        \n",
    "        primary_xs_list = []\n",
    "        attachment_pt_list = []        \n",
    "        for dv in DV_list:\n",
    "            if dv > 750_000_000:\n",
    "                x = np.random.choice([0, 1], size=1, p=[self.primary_pct, self.xs_pct])\n",
    "                primary_xs_list.append(x[0])\n",
    "            else:\n",
    "                primary_xs_list.append(0)\n",
    "        for pri_v_xs in primary_xs_list:\n",
    "            if pri_v_xs == 0:\n",
    "                y = np.random.choice(self.pri_attachment_pt_range, size=1)\n",
    "                attachment_pt_list.append(y[0])\n",
    "            if pri_v_xs == 1:\n",
    "                z = np.random.choice(self.xs_attachment_pt_range, size=1)\n",
    "                attachment_pt_list.append(z[0])\n",
    "\n",
    "                \n",
    "        pricing_list = []\n",
    "        for index, DV in enumerate(DV_list):\n",
    "            if DV > 9_999_999 and DV < 75_000_001:\n",
    "                pricing_list.append(round(random.uniform(self.sme_pricing_low, self.sme_pricing_high), 4)) \n",
    "            if DV > 75_000_000 and DV < 750_000_001:\n",
    "                pricing_list.append(round(random.uniform(self.mm_pricing_low, self.mm_pricing_high), 4)) \n",
    "            if DV > 750_000_000 and DV < 2_000_000_001:\n",
    "                if attachment_pt_list[index] < .01:\n",
    "                    pricing_list.append(round(random.uniform(self.j_pricing_low, self.j_pricing_high), 4)) \n",
    "                if attachment_pt_list[index] > .049 and attachment_pt_list[index] < .101:\n",
    "                    x_1 = round(random.uniform(self.low_ilf_5, self.high_ilf_10), 2)\n",
    "                    y_1 = round(random.uniform(self.j_pricing_low, self.j_pricing_high)*x_1, 4)\n",
    "                    pricing_list.append(y_1)\n",
    "                if attachment_pt_list[index] > .10 and attachment_pt_list[index] < .15:\n",
    "                    x_2 = round(random.uniform(self.low_ilf_10, self.high_ilf_15), 2)\n",
    "                    y_2 = round(random.uniform(self.j_pricing_low, self.j_pricing_high)*x_2, 4)\n",
    "                    pricing_list.append(y_2) \n",
    "            if DV > 2_000_000_000 and DV < 5_000_000_001:\n",
    "                if attachment_pt_list[index] < .01:\n",
    "                    pricing_list.append(round(random.uniform(self.j_pricing_low, self.j_pricing_high), 4)) \n",
    "                if attachment_pt_list[index] >= .05 and attachment_pt_list[index] <= .10:\n",
    "                    x_3 = round(random.uniform(self.low_ilf_5, self.high_ilf_10), 2)\n",
    "                    y_3 = round(random.uniform(self.j_pricing_low, self.j_pricing_high)*x_3, 4)\n",
    "                    pricing_list.append(y_3)\n",
    "                if attachment_pt_list[index] > .10:\n",
    "                    x_4 = round(random.uniform(self.low_ilf_10*.5, self.high_ilf_15*.5), 2)\n",
    "                    y_4 = round(random.uniform(self.j_pricing_low, self.j_pricing_high)*x_4, 4)\n",
    "                    pricing_list.append(y_4) \n",
    "\n",
    "                    \n",
    "        limit_list = []\n",
    "        for value in DV_list:\n",
    "            if value < 30_000_001:\n",
    "                limit_list.append(random.randrange(value*.1, value*.2)) \n",
    "            else:\n",
    "                limit_list.append(random.randrange(self.low_limit, self.upper_limit, self.limit_range))\n",
    "    \n",
    "\n",
    "        notice_list = []\n",
    "        for x in range(int(self.deal_count*notice_pct*notice_pct_loss)):\n",
    "            notice_list.append(1)\n",
    "        for x in range(int(self.deal_count*notice_pct*notice_pct_loss*low_severity_pct)):\n",
    "            notice_list.append(2)\n",
    "        for x in range(int(self.deal_count*notice_pct*notice_pct_loss*med_severity_pct)):\n",
    "            notice_list.append(3)\n",
    "        for x in range(int(self.deal_count*notice_pct*notice_pct_loss*high_severity_pct)):\n",
    "            notice_list.append(4)\n",
    "        for x in range(int(self.deal_count*(1-notice_pct))):\n",
    "            notice_list.append(0)\n",
    "        if 100 - len(notice_list) > 0:\n",
    "            for x in range(self.deal_count - len(notice_list)):\n",
    "                notice_list.append(randrange(5))\n",
    "        if 100 - len(notice_list) < 0:\n",
    "            for x in range(abs(self.deal_count - len(notice_list))):\n",
    "                notice_list.pop(randrange(len(notice_list)))\n",
    "        random.shuffle(notice_list)\n",
    "    \n",
    "\n",
    "        loss_list = []\n",
    "        for index, notice in enumerate(notice_list):\n",
    "            if notice == 0:\n",
    "                loss_list.append(0) \n",
    "            if notice == 1:\n",
    "                loss_list.append(0) \n",
    "            if notice == 2:\n",
    "                loss_list.append(random.randrange(self.low_low_severity_loss, self.low_high_severity_loss)) \n",
    "            if notice == 3:\n",
    "                loss_list.append(random.randrange(self.med_low_severity_loss, self.med_high_severity_loss))\n",
    "            if notice == 4:\n",
    "                if limit_list[index] > 10_000_000:\n",
    "                    loss_list.append(random.randrange(self.high_low_severity_loss, limit_list[index]))\n",
    "                else:\n",
    "                    loss_list.append(random.randrange(self.high_low_severity_loss, 10_000_001))\n",
    "        \n",
    "        return DV_list,pricing_list,attachment_pt_list,notice_list,loss_list,limit_list\n",
    "\n",
    "    \n",
    "    def df_generator(self):\n",
    "        DV_list,pricing_list,attachment_pt_list,notice_list,loss_list,limit_list = self.main_generator()\n",
    "        data_tuples = list(zip(DV_list,pricing_list,attachment_pt_list,notice_list,loss_list,limit_list))\n",
    "        df = pd.DataFrame(data_tuples, columns=['DV','RoL','Attachment_Pt_Pct','Notice','Loss_Amount','Limit'])\n",
    "        df['Premium'] = df['Limit'] * df['RoL']\n",
    "        df['Attachment_Pt'] = df['DV']*df['Attachment_Pt_Pct']\n",
    "        \n",
    "        def performance(df):\n",
    "            if df['Attachment_Pt'] - df['Loss_Amount'] >= 0:\n",
    "                    df['Performance'] = df['Premium']\n",
    "            if df['Attachment_Pt'] - df['Loss_Amount'] <= 0:\n",
    "                df['Performance'] = df['Premium'] + df['Attachment_Pt'] - df['Loss_Amount']\n",
    "            return df['Performance']\n",
    "        \n",
    "        df['Performance'] = df.apply(performance, axis=1)\n",
    "        \n",
    "        return df"
   ]
  },
  {
   "cell_type": "code",
   "execution_count": null,
   "id": "a6e680b1",
   "metadata": {
    "hidden": true
   },
   "outputs": [],
   "source": [
    "def formatted(number):\n",
    "    return (\"{:,}\".format(number))\n",
    "\n",
    "def run_simulation(num_simulations, simulation_lst):\n",
    "    agg_performance_stats = []\n",
    "    agg_premium_stats = []\n",
    "    agg_limit_stats_mean = [] # NEW\n",
    "    agg_limit_stats_sum = [] # NEW\n",
    "    agg_avg_rpm = [] # NEW\n",
    "    num_simulations = num_simulations\n",
    "\n",
    "    for simulation in simulation_lst:\n",
    "        performance_stats = []\n",
    "        premium_stats = []\n",
    "        limit_stats_mean = [] # NEW\n",
    "        limit_stats_sum = [] # NEW\n",
    "        avg_rpm_stats = [] # NEW\n",
    "        for i in range(num_simulations):\n",
    "            simulation = simulation\n",
    "            df = simulation.df_generator()\n",
    "            performance_stats.append(df['Performance'].sum().round(0))\n",
    "            premium_stats.append(df['Premium'].sum().round(0))\n",
    "            limit_stats_mean.append(df['Limit'].mean().round(0)) # NEW\n",
    "            limit_stats_sum.append(df['Limit'].sum().round(0)) # NEW\n",
    "            rpm = df['Premium'].sum().round(0) / (df['Limit'].sum().round(0) / 1_000_000) # NEW\n",
    "            avg_rpm_stats.append(rpm) # NEW\n",
    "        agg_performance_stats.append(performance_stats)\n",
    "        agg_premium_stats.append(premium_stats)\n",
    "        agg_limit_stats_mean.append(limit_stats_mean) # NEW\n",
    "        agg_limit_stats_sum.append(limit_stats_sum) # NEW\n",
    "        agg_avg_rpm.append(avg_rpm_stats) # NEW\n",
    "\n",
    "        print()\n",
    "        print(f'******************  {simulation.name}  ******************')\n",
    "        above_0 = round(len([i for i in performance_stats if i > 0])/len(performance_stats), 3)\n",
    "        print(f'Percentage of scenarios above 0: {above_0}%')\n",
    "        above_1m = round(len([i for i in performance_stats if i > 1_000_000])/len(performance_stats), 3)\n",
    "        print(f'Percentage of scenarios above 1m: {above_1m}%')\n",
    "        above_10m = round(len([i for i in performance_stats if i > 10_000_000])/len(performance_stats), 3)\n",
    "        print(f'Percentage of scenarios above 10m: {above_10m}%')\n",
    "        print('-')\n",
    "        print('Average Profit:', formatted(round(sum(performance_stats)/len(performance_stats))))\n",
    "        print('Max Profit:', formatted(round(max(performance_stats))))\n",
    "        print('Min Profit:', formatted(round(min(performance_stats))))\n",
    "        p_25 = np.percentile(np.asarray(performance_stats), 25)\n",
    "        p_50 = np.percentile(np.asarray(performance_stats), 50)\n",
    "        p_75 = np.percentile(np.asarray(performance_stats), 75)\n",
    "        print(f'25% = {formatted(round(p_25))}')\n",
    "        print(f'50% = {formatted(round(p_50))}')\n",
    "        print(f'75% = {formatted(round(p_75))}')\n",
    "        print('-')\n",
    "        avg_total_premium = (sum(premium_stats) / len(premium_stats))\n",
    "        print(f'Avg Total Premium: {formatted(round(avg_total_premium))}')\n",
    "        avg_total_limit = (sum(limit_stats_sum) / len(limit_stats_sum))\n",
    "        print(f'Avg Total Limit: {formatted(round(avg_total_limit))}')\n",
    "        avg_limit = (sum(limit_stats_mean) / len(limit_stats_mean))\n",
    "        print(f'Avg Limit: {formatted(round(avg_limit))}')\n",
    "        avg_rpm = avg_total_premium / (avg_total_limit / 1_000_000)\n",
    "        print(f'Avg RPM: {formatted(round(avg_rpm))}')\n",
    "        print(f'Avg Coverage / RoL: {round(int(avg_total_premium) / int(avg_limit), 3)}')\n",
    "        print()\n",
    "        print('** - - - END - - - **')\n",
    "        print()\n",
    "    return agg_performance_stats, agg_premium_stats, agg_limit_stats_mean, agg_limit_stats_sum, agg_avg_rpm  "
   ]
  },
  {
   "cell_type": "code",
   "execution_count": null,
   "id": "01dea4b8",
   "metadata": {
    "hidden": true
   },
   "outputs": [],
   "source": [
    "tri_base = Simulation(name='tri_base', dist='triangle')\n",
    "norm_base = Simulation(name='norm_base', dist='normal')\n",
    "\n",
    "simulation_lst = [tri_base, norm_base]\n",
    "\n",
    "agg_performance_stats, agg_premium_stats, agg_limit_stats_mean, agg_limit_stats_sum, agg_avg_rpm = run_simulation(10, simulation_lst)"
   ]
  },
  {
   "cell_type": "code",
   "execution_count": null,
   "id": "3fbac7ab",
   "metadata": {
    "hidden": true
   },
   "outputs": [],
   "source": [
    "for index, stats in enumerate(agg_performance_stats):\n",
    "    sns.displot(stats, bins=100, kde=True)\n",
    "    plt.title(f\"Monte Carlo Loss/Claims Scenario {simulation_lst[index].name}\")\n",
    "    plt.xlabel(\"Peformance (profit in 10's of MM)\")\n",
    "    plt.ylabel(\"Performance Count\")"
   ]
  },
  {
   "cell_type": "code",
   "execution_count": null,
   "id": "3508295a",
   "metadata": {
    "hidden": true,
    "scrolled": true
   },
   "outputs": [],
   "source": [
    "# NEW\n",
    "\n",
    "for index, stats in enumerate(agg_avg_rpm):\n",
    "    sns.displot(stats, bins=100, kde=True)\n",
    "    plt.title(f\"Monte Carlo Rate Per Million {simulation_lst[index].name}\")\n",
    "    plt.xlabel(\"Rate Per Million\")\n",
    "    plt.ylabel(\"Performance Count\")"
   ]
  },
  {
   "cell_type": "code",
   "execution_count": null,
   "id": "f1814b06",
   "metadata": {
    "hidden": true,
    "scrolled": true
   },
   "outputs": [],
   "source": [
    "base = Simulation(name='base', dist='triangle')\n",
    "\n",
    "pct_20 = 1.2\n",
    "base_plus_20 = Simulation(\n",
    "        name='base_plus_20',\n",
    "        dist='triangle',\n",
    "        sme_pricing_low = .01*pct_20, \n",
    "        sme_pricing_high = .0125*pct_20,\n",
    "        mm_pricing_low = .0125*pct_20, \n",
    "        mm_pricing_high = .0145*pct_20,\n",
    "        j_pricing_low = .025*pct_20,  \n",
    "        j_pricing_high = .055*pct_20)\n",
    "\n",
    "pct_40 = 1.4\n",
    "base_plus_40 = Simulation(\n",
    "        name='base_plus_40',\n",
    "        dist='triangle',\n",
    "        sme_pricing_low = .01*pct_40, \n",
    "        sme_pricing_high = .0125*pct_40,\n",
    "        mm_pricing_low = .0125*pct_40, \n",
    "        mm_pricing_high = .0145*pct_40,\n",
    "        j_pricing_low = .025*pct_40,  \n",
    "        j_pricing_high = .055*pct_40)\n",
    "\n",
    "base_200dc = Simulation(name='base_200dc',\n",
    "                        dist='triangle',\n",
    "                        deal_count = 200,\n",
    "                        tri_notice_pct_dist = np.random.triangular(.05, .15, .20, 100_000),\n",
    "                        tri_notice_pct_loss_dist = np.random.triangular(.15, .20, .25, 100_000),\n",
    "                        tri_severity_dist = np.random.triangular(.65, .7, .75, 100_000))\n",
    "\n",
    "base_plus_20_200dc = Simulation(\n",
    "                        name='base_plus_20_200dc',\n",
    "                        dist='triangle',\n",
    "                        sme_pricing_low = .01*pct_20, \n",
    "                        sme_pricing_high = .0125*pct_20,\n",
    "                        mm_pricing_low = .0125*pct_20, \n",
    "                        mm_pricing_high = .0145*pct_20,\n",
    "                        j_pricing_low = .025*pct_20,  \n",
    "                        j_pricing_high = .055*pct_20,\n",
    "                        deal_count = 200,\n",
    "                        tri_notice_pct_dist = np.random.triangular(.05, .15, .20, 100_000),\n",
    "                        tri_notice_pct_loss_dist = np.random.triangular(.15, .20, .25, 100_000),\n",
    "                        tri_severity_dist = np.random.triangular(.65, .7, .75, 100_000))\n",
    "\n",
    "base_plus_40_200dc = Simulation(\n",
    "                        name='base_plus_40_200dc',\n",
    "                        dist='triangle',\n",
    "                        sme_pricing_low = .01*pct_40, \n",
    "                        sme_pricing_high = .0125*pct_40,\n",
    "                        mm_pricing_low = .0125*pct_40, \n",
    "                        mm_pricing_high = .0145*pct_40,\n",
    "                        j_pricing_low = .025*pct_40,  \n",
    "                        j_pricing_high = .055*pct_40,\n",
    "                        deal_count = 200,\n",
    "                        tri_notice_pct_dist = np.random.triangular(.05, .15, .20, 100_000),\n",
    "                        tri_notice_pct_loss_dist = np.random.triangular(.15, .20, .25, 100_000),\n",
    "                        tri_severity_dist = np.random.triangular(.65, .7, .75, 100_000))\n",
    "\n",
    "simulation_lst = [base, base_plus_20, base_plus_40, base_200dc, base_plus_20_200dc, base_plus_40_200dc]"
   ]
  },
  {
   "cell_type": "code",
   "execution_count": null,
   "id": "3a487ecc",
   "metadata": {
    "hidden": true
   },
   "outputs": [],
   "source": [
    "agg_performance_stats, agg_premium_stats, agg_limit_stats = run_simulation(100, simulation_lst)"
   ]
  },
  {
   "cell_type": "code",
   "execution_count": null,
   "id": "e7a53f96",
   "metadata": {
    "hidden": true
   },
   "outputs": [],
   "source": [
    "for index, stats in enumerate(agg_performance_stats):\n",
    "    sns.displot(stats, bins=100, kde=True)\n",
    "    plt.title(f\"Monte Carlo Loss/Claims Scenario {simulation_lst[index]}\")\n",
    "    plt.xlabel(\"Peformance (profit in 10's of MM)\")\n",
    "    plt.ylabel(\"Performance Count\")\n",
    "#    a=np.percentile(np.asarray(stats), 25)\n",
    "#    plt.axvline(a, linewidth=2, color='black')\n",
    "#    plt.text(x=a, y=100, s='25%')\n",
    "#    b=np.percentile(np.asarray(stats), 50)\n",
    "#    plt.axvline(b, linewidth=2, color='greenyellow')\n",
    "#    plt.text(x=b, y=150, s='50%')\n",
    "#    c=np.percentile(np.asarray(stats), 75)\n",
    "#    plt.axvline(c, linewidth=2, color='lime')\n",
    "#    plt.text(x=c, y=200, s='75%')\n",
    "#    plt.legend((formatted(round(a)), formatted(round(b)), formatted(round(c))), loc=\"upper left\")"
   ]
  },
  {
   "cell_type": "markdown",
   "id": "54f7fc2e",
   "metadata": {
    "heading_collapsed": true
   },
   "source": [
    "# END NOTES"
   ]
  },
  {
   "cell_type": "code",
   "execution_count": null,
   "id": "ad7b36a5",
   "metadata": {
    "hidden": true
   },
   "outputs": [],
   "source": [
    "import matplotlib.pyplot as plt\n",
    "import numpy as np\n",
    "import scipy.stats as stats\n",
    "import math\n",
    "\n",
    "mu = .2\n",
    "variance = 1\n",
    "sigma = math.sqrt(variance)\n",
    "x = np.linspace(mu - mu*sigma, mu + .8*sigma, 1000)\n",
    "plt.plot(x, stats.norm.pdf(x, mu, sigma))\n",
    "plt.show()"
   ]
  },
  {
   "cell_type": "code",
   "execution_count": null,
   "id": "e04e939b",
   "metadata": {
    "hidden": true
   },
   "outputs": [],
   "source": [
    "h = plt.hist(np.random.triangular(0, .15, 1, 100000), bins=200,\n",
    "             density=True)\n",
    "plt.show()"
   ]
  },
  {
   "cell_type": "code",
   "execution_count": null,
   "id": "d5134b6e",
   "metadata": {
    "hidden": true
   },
   "outputs": [],
   "source": [
    "h = plt.hist(np.random.triangular(.15, .25, .35, 100000), bins=200,\n",
    "             density=True)\n",
    "plt.show()"
   ]
  },
  {
   "cell_type": "code",
   "execution_count": null,
   "id": "52a40206",
   "metadata": {
    "hidden": true,
    "scrolled": true
   },
   "outputs": [],
   "source": [
    "def my_distribution(min_val, max_val, mean, std):\n",
    "    scale = max_val - min_val\n",
    "    location = min_val\n",
    "    # Mean and standard deviation of the unscaled beta distribution\n",
    "    unscaled_mean = (mean - min_val) / scale\n",
    "    unscaled_var = (std / scale) ** 2\n",
    "    # Computation of alpha and beta can be derived from mean and variance formulas\n",
    "    t = unscaled_mean / (1 - unscaled_mean)\n",
    "    beta = ((t / unscaled_var) - (t * t) - (2 * t) - 1) / ((t * t * t) + (3 * t * t) + (3 * t) + 1)\n",
    "    alpha = beta * t\n",
    "    # Not all parameters may produce a valid distribution\n",
    "    if alpha <= 0 or beta <= 0:\n",
    "        raise ValueError('Cannot create distribution for the given parameters.')\n",
    "    # Make scaled beta distribution with computed parameters\n",
    "    return scipy.stats.beta(alpha, beta, scale=scale, loc=location)\n",
    "\n",
    "np.random.seed(100)\n",
    "\n",
    "min_val = .5\n",
    "max_val = 1\n",
    "mean = .7\n",
    "std = .05\n",
    "my_dist = my_distribution(min_val, max_val, mean, std)\n",
    "# Plot distribution PDF\n",
    "x = np.linspace(min_val, max_val, 100_000)\n",
    "plt.plot(x, my_dist.pdf(x))\n",
    "# Stats\n",
    "print('mean:', my_dist.mean(), 'std:', my_dist.std())\n",
    "# Get a large sample to check bounds\n",
    "sample = my_dist.rvs(size=100000)"
   ]
  },
  {
   "cell_type": "code",
   "execution_count": null,
   "id": "f56f6edb",
   "metadata": {
    "hidden": true
   },
   "outputs": [],
   "source": [
    "sample[2]"
   ]
  },
  {
   "cell_type": "code",
   "execution_count": null,
   "id": "b1c53009",
   "metadata": {
    "hidden": true
   },
   "outputs": [],
   "source": [
    "a = np.random.random(1)[0]\n",
    "print(a)"
   ]
  },
  {
   "cell_type": "code",
   "execution_count": null,
   "id": "694b2600",
   "metadata": {
    "hidden": true
   },
   "outputs": [],
   "source": [
    "pri_attachment_pt_range = np.arange(0.0025, 0.0055, 0.0005)\n",
    "pri_attachment_pt_range = np.append(pri_attachment_pt_range, [.006, .0065], axis=0)\n",
    "pri_attachment_pt_range = np.delete(pri_attachment_pt_range, [0,1], 0)"
   ]
  },
  {
   "cell_type": "code",
   "execution_count": null,
   "id": "fad5c385",
   "metadata": {
    "hidden": true
   },
   "outputs": [],
   "source": [
    "from scipy.optimize import curve_fit\n",
    "\n",
    "def func(x, a, b, c):\n",
    "    return a * np.exp(-b * x) + c\n",
    "\n",
    "xs_pricing_attachment_pt_data = [\n",
    "(.0175, .0025), \n",
    "(.0144, .0225), \n",
    "(.0123, .0425), \n",
    "(.0107, .0625), \n",
    "(.0097, .1533),\n",
    "(.07, .0266),\n",
    "(.0585, .0466),\n",
    "(.0488475, .0666),\n",
    "(.040054950, .0866),\n",
    "(.032244, .1133),\n",
    "(.025635, .14),\n",
    "(.020508, .1733),\n",
    "(.016407, .2266),\n",
    "(.013125, .3033),\n",
    "(.01, .3933),\n",
    "(.0085, .5266),\n",
    "(.0645, .01),\n",
    "(.0581, .021),\n",
    "(.0522, .031),\n",
    "(.0481, .053),\n",
    "(.0334, .081)]\n",
    "\n",
    "xs_pricing_attachment_pt_lst = list(zip(*xs_pricing_attachment_pt_data))\n",
    "np_xs_pricing_attachment_pt = np.asarray(xs_pricing_attachment_pt_lst)\n",
    "popt, pcov = curve_fit(func, np_xs_pricing_attachment_pt[1], np_xs_pricing_attachment_pt[0])\n",
    "plt.plot(np_xs_pricing_attachment_pt[1], func(np_xs_pricing_attachment_pt[1], *popt), 'r-', label='fit: a=%5.3f, b=%5.3f, c=%5.3f' % tuple(popt))"
   ]
  },
  {
   "cell_type": "code",
   "execution_count": null,
   "id": "e6bee178",
   "metadata": {
    "hidden": true
   },
   "outputs": [],
   "source": [
    "np_xs_pricing_attachment_pt"
   ]
  },
  {
   "cell_type": "code",
   "execution_count": null,
   "id": "eb16640c",
   "metadata": {
    "hidden": true
   },
   "outputs": [],
   "source": []
  },
  {
   "cell_type": "code",
   "execution_count": null,
   "id": "a3971a4e",
   "metadata": {
    "hidden": true
   },
   "outputs": [],
   "source": [
    "xs_pricing_attachment_pt_lst = list(zip(*xs_pricing_attachment_pt_data))\n",
    "df = pd.DataFrame (xs_pricing_attachment_pt_lst).transpose()\n",
    "df.columns = ['RoL', 'XS']"
   ]
  },
  {
   "cell_type": "code",
   "execution_count": null,
   "id": "197544d6",
   "metadata": {
    "hidden": true
   },
   "outputs": [],
   "source": [
    "df"
   ]
  },
  {
   "cell_type": "code",
   "execution_count": null,
   "id": "dad3a2b8",
   "metadata": {
    "hidden": true
   },
   "outputs": [],
   "source": [
    "ax = df.plot(x=\"XS\", y=\"RoL\", kind=\"line\", title=\"Some experimental data\", linestyle=\"\", marker=\".\", linewidth=1)"
   ]
  },
  {
   "cell_type": "code",
   "execution_count": null,
   "id": "a204f799",
   "metadata": {
    "hidden": true
   },
   "outputs": [],
   "source": [
    "def f_model(x, a, c):\n",
    "    return np.log((a + x)**2 / (x - c)**2)"
   ]
  },
  {
   "cell_type": "code",
   "execution_count": null,
   "id": "89dece08",
   "metadata": {
    "hidden": true
   },
   "outputs": [],
   "source": [
    "df[\"model\"] = f_model(df[\"XS\"], 2, -2)\n",
    "df.head(8)"
   ]
  },
  {
   "cell_type": "code",
   "execution_count": null,
   "id": "36dd5bcd",
   "metadata": {
    "hidden": true
   },
   "outputs": [],
   "source": [
    "ax = df.plot(x=\"XS\", y=\"RoL\", kind=\"line\", title=\"Some experimental data\", linestyle=\"\", marker=\".\", linewidth=1)\n",
    "\n",
    "ax = df.plot(x=\"XS\", y=\"model\",kind=\"line\", ax=ax, linewidth=1)"
   ]
  },
  {
   "cell_type": "code",
   "execution_count": null,
   "id": "be54b05a",
   "metadata": {
    "hidden": true
   },
   "outputs": [],
   "source": [
    "popt, pcov = curve_fit(func, df['XS'], df['RoL'])\n",
    "plt.plot(df['XS'], func(df['XS'], *popt), 'r-', label='fit: a=%5.3f, b=%5.3f, c=%5.3f' % tuple(popt))"
   ]
  },
  {
   "cell_type": "code",
   "execution_count": null,
   "id": "5e2c8425",
   "metadata": {
    "hidden": true
   },
   "outputs": [],
   "source": [
    "popt, pcov = curve_fit(\n",
    "    f=f_model,       # model function\n",
    "    xdata=df[\"XS\"],   # x data\n",
    "    ydata=df[\"RoL\"],   # y data\n",
    "    p0=(3, -2)  # uncertainties on y\n",
    ")"
   ]
  },
  {
   "cell_type": "code",
   "execution_count": null,
   "id": "983e43f2",
   "metadata": {
    "hidden": true
   },
   "outputs": [],
   "source": [
    "a_opt, c_opt = popt"
   ]
  },
  {
   "cell_type": "code",
   "execution_count": null,
   "id": "9c10b868",
   "metadata": {
    "hidden": true
   },
   "outputs": [],
   "source": [
    "perr = np.sqrt(np.diag(pcov))\n",
    "Da, Dc = perr"
   ]
  },
  {
   "cell_type": "code",
   "execution_count": null,
   "id": "b88355b8",
   "metadata": {
    "hidden": true
   },
   "outputs": [],
   "source": [
    "R2 = np.sum((f_model(df.XS, a_opt, c_opt) - df.RoL.mean())**2) / np.sum((df.RoL - df.RoL.mean())**2)"
   ]
  },
  {
   "cell_type": "code",
   "execution_count": null,
   "id": "1086a846",
   "metadata": {
    "hidden": true
   },
   "outputs": [],
   "source": [
    "df[\"model\"] = f_model(df.XS, a_opt, c_opt)\n",
    "df.head()"
   ]
  },
  {
   "cell_type": "code",
   "execution_count": null,
   "id": "5342e182",
   "metadata": {
    "hidden": true
   },
   "outputs": [],
   "source": [
    "ax = df.plot(x=\"XS\", y=\"RoL\", kind=\"line\", title=\"Some experimental data\", linestyle=\"\", marker=\".\", linewidth=1)\n",
    "\n",
    "ax = df.plot(x=\"XS\", y=\"model\",kind=\"line\", ax=ax, linewidth=1)"
   ]
  },
  {
   "cell_type": "code",
   "execution_count": null,
   "id": "d86c1c21",
   "metadata": {
    "hidden": true
   },
   "outputs": [],
   "source": [
    "xs_pricing_attachment_pt_data = [\n",
    "(.07, .0266),\n",
    "(.0585, .0466),\n",
    "(.0488475, .0666),\n",
    "(.040054950, .0866),\n",
    "(.032244, .1133),\n",
    "(.025635, .14),\n",
    "(.020508, .1733),\n",
    "(.016407, .2266),\n",
    "(.013125, .3033),\n",
    "(.01, .3933),\n",
    "(.0085, .5266),\n",
    "(.0645, .01),\n",
    "(.0581, .021),\n",
    "(.0522, .031),\n",
    "(.0481, .053),\n",
    "(.0334, .081)]\n",
    "\n",
    "xs_pricing_attachment_pt_lst = list(zip(*xs_pricing_attachment_pt_data))\n",
    "np_xs_pricing_attachment_pt = np.asarray(xs_pricing_attachment_pt_lst)\n",
    "popt, pcov = curve_fit(func, np_xs_pricing_attachment_pt[1], np_xs_pricing_attachment_pt[0])"
   ]
  },
  {
   "cell_type": "code",
   "execution_count": null,
   "id": "59aa8a9e",
   "metadata": {
    "hidden": true
   },
   "outputs": [],
   "source": [
    "import numpy as np\n",
    "import matplotlib.pyplot as plt\n",
    "from scipy.optimize import curve_fit\n",
    "\n",
    "def func(x, a, b, c):\n",
    "#    return a * np.exp(-b * x) + c\n",
    "    return a * x + b * x**2 + c\n",
    "\n",
    "#c is a constant so taking the derivative makes it go to zero\n",
    "#def deriv(x, a, b, c):\n",
    "#    return -a * b * np.exp(-b * x)\n",
    "\n",
    "#Integrating gives you another c coefficient (offset) let's call it c1 and set it equal to zero by default\n",
    "#def integ(x, a, b, c, c1 = 0):\n",
    "#    return -a/b * np.exp(-b * x) + c*x + c1\n",
    "\n",
    "#There are only 4 (x,y) points here\n",
    "xdata = np_xs_pricing_attachment_pt[1]\n",
    "ydata = np_xs_pricing_attachment_pt[0]\n",
    "\n",
    "#curve_fit already uses \"non-linear least squares to fit a function, f, to data\"\n",
    "popt, pcov = curve_fit(func, xdata, ydata)\n",
    "a,b,c = popt #these are the optimal parameters for fitting your 4 data points\n",
    "\n",
    "#Now get more x values to plot the curve along so it looks like a curve\n",
    "step = 0.01\n",
    "fit_xs = np.arange(min(xdata),max(xdata),step)\n",
    "\n",
    "#Plot the results\n",
    "plt.plot(xdata, ydata, 'bx', label='data')\n",
    "plt.plot(fit_xs, func(fit_xs,a,b,c), 'r-', label='fit')\n",
    "#plt.plot(fit_xs, deriv(fit_xs,a,b,c), 'g-', label='deriv')\n",
    "#plt.plot(fit_xs, integ(fit_xs,a,b,c), 'm-', label='integ')\n",
    "plt.xlabel('x')\n",
    "plt.ylabel('y')"
   ]
  },
  {
   "cell_type": "code",
   "execution_count": null,
   "id": "cb207e7a",
   "metadata": {
    "hidden": true
   },
   "outputs": [],
   "source": [
    "import numpy as np\n",
    "import matplotlib.pyplot as plt\n",
    "from scipy.optimize import curve_fit\n",
    "\n",
    "def func(x, a, b, c):\n",
    "    return a * np.exp(-b * x) + c\n",
    "\n",
    "xdata = np_xs_pricing_attachment_pt[1]\n",
    "ydata = np_xs_pricing_attachment_pt[0]\n",
    "plt.plot(xdata, ydata, 'b-', label='data')\n",
    "popt, pcov = curve_fit(func, xdata, ydata)\n",
    "plt.plot(xdata, func(xdata, *popt), 'r-', label='fit')\n",
    "\n",
    "plt.xlabel('x')\n",
    "plt.ylabel('y')\n",
    "plt.legend()\n",
    "plt.show()"
   ]
  },
  {
   "cell_type": "code",
   "execution_count": null,
   "id": "0107ad5a",
   "metadata": {
    "hidden": true
   },
   "outputs": [],
   "source": [
    "import numpy as np\n",
    "import matplotlib.pyplot as plt\n",
    "from scipy.optimize import curve_fit\n",
    "import numpy as np\n",
    "\n",
    "xdata = np_xs_pricing_attachment_pt[1]\n",
    "ydata = np_xs_pricing_attachment_pt[0]\n",
    "\n",
    "def func(x, p1,p2):\n",
    "  return p1*np.cos(p2*x) + p2*np.sin(p1*x)\n",
    "\n",
    "# Here you give the initial parameters for p0 which Python then iterates over\n",
    "# to find the best fit\n",
    "popt, pcov = curve_fit(func,xdata,ydata,p0=(1.0,0.3))\n",
    "\n",
    "print(popt) # This contains your two best fit parameters\n",
    "\n",
    "# Performing sum of squares\n",
    "p1 = popt[0]\n",
    "p2 = popt[1]\n",
    "residuals = ydata - func(xdata,p1,p2)\n",
    "fres = sum(residuals**2)\n",
    "\n",
    "print(fres)\n",
    "\n",
    "xaxis = np.linspace(-2,3,100) # we can plot with xdata, but fit will not look good \n",
    "curve_y = func(xaxis,p1,p2)\n",
    "plt.plot(xdata,ydata,'*')\n",
    "plt.plot(xaxis,curve_y,'-')\n",
    "plt.show()"
   ]
  },
  {
   "cell_type": "code",
   "execution_count": null,
   "id": "a0982481",
   "metadata": {
    "hidden": true
   },
   "outputs": [],
   "source": [
    "from scipy.optimize import curve_fit\n",
    "import numpy as np\n",
    "# define type of function to search\n",
    "def model_func(x, a, k, b):\n",
    "    return a * np.exp(-k*x) + b\n",
    "\n",
    "# sample data\n",
    "x = np_xs_pricing_attachment_pt[1]\n",
    "y = np_xs_pricing_attachment_pt[0]\n",
    "\n",
    "# curve fit\n",
    "p0 = (1.,1.e-5,1.) # starting search koefs\n",
    "opt, pcov = curve_fit(model_func, x, y, p0)\n",
    "a, k, b = opt\n",
    "# test result\n",
    "x2 = np.linspace(250, 6000, 250)\n",
    "y2 = model_func(x2, a, k, b)\n",
    "fig, ax = plt.subplots()\n",
    "ax.plot(x2, y2, color='r', label='Fit. func: $f(x) = %.3f e^{%.3f x} %+.3f$' % (a,k,b))\n",
    "ax.plot(x, y, 'bo', label='data with noise')\n",
    "ax.legend(loc='best')\n",
    "plt.show()"
   ]
  },
  {
   "cell_type": "code",
   "execution_count": null,
   "id": "52682679",
   "metadata": {
    "hidden": true
   },
   "outputs": [],
   "source": [
    "import numpy as np\n",
    "import matplotlib.pyplot as plt\n",
    "from scipy.optimize import curve_fit\n",
    "\n",
    "xs_pricing_attachment_pt_data = [\n",
    "(.07, .0266),\n",
    "(.0585, .0466),\n",
    "(.0488475, .0666),\n",
    "(.040054950, .0866),\n",
    "(.032244, .1133),\n",
    "(.025635, .14),\n",
    "(.020508, .1733),\n",
    "(.016407, .2266),\n",
    "(.013125, .3033),\n",
    "(.01, .3933),\n",
    "(.0085, .5266),\n",
    "(.0645, .01),\n",
    "(.0581, .021),\n",
    "(.0522, .031),\n",
    "(.0481, .053),\n",
    "(.0334, .081),\n",
    "(.01, .3), #made up data - from here down...\n",
    "(.01, .4), \n",
    "(.0085, .45), \n",
    "(.0085, .45), \n",
    "(.0075, .5)] \n",
    "\n",
    "xs_pricing_attachment_pt_lst = list(zip(*xs_pricing_attachment_pt_data))\n",
    "np_xs_pricing_attachment_pt = np.asarray(xs_pricing_attachment_pt_lst)\n",
    "\n",
    "def func(x, a, b, c):\n",
    "    return (a * x)**2 + b*x + c\n",
    "#    return a * x + b * x**2 + c\n",
    "\n",
    "xdata = np_xs_pricing_attachment_pt[1]\n",
    "ydata = np_xs_pricing_attachment_pt[0]\n",
    "\n",
    "popt, pcov = curve_fit(func, xdata, ydata)\n",
    "a,b,c = popt \n",
    "\n",
    "step = 0.01\n",
    "fit_xs = np.arange(min(xdata),max(xdata),step)\n",
    "\n",
    "plt.plot(xdata, ydata, 'bx', label='data')\n",
    "plt.plot(fit_xs, func(fit_xs,a,b,c), 'r-', label='fit')\n",
    "plt.xlabel('XS')\n",
    "plt.ylabel('RoL')"
   ]
  },
  {
   "cell_type": "code",
   "execution_count": null,
   "id": "167456ab",
   "metadata": {
    "hidden": true
   },
   "outputs": [],
   "source": [
    "xs = np_xs_pricing_attachment_pt[1]*100\n",
    "ys = np_xs_pricing_attachment_pt[0]*100\n",
    "\n",
    "def monoExp(x, m, t, b):\n",
    "    return m * np.exp(-t * x) + b\n",
    "\n",
    "# perform the fit\n",
    "p0 = (2000, .1, 50) # start with values near those we expect\n",
    "params, cv = scipy.optimize.curve_fit(monoExp, xs, ys, p0)\n",
    "m, t, b = params\n",
    "sampleRate = 20_000 # Hz\n",
    "tauSec = (1 / t) / sampleRate\n",
    "\n",
    "# determine quality of the fit\n",
    "squaredDiffs = np.square(ys - monoExp(xs, m, t, b))\n",
    "squaredDiffsFromMean = np.square(ys - np.mean(ys))\n",
    "rSquared = 1 - np.sum(squaredDiffs) / np.sum(squaredDiffsFromMean)\n",
    "print(f\"R² = {rSquared}\")\n",
    "\n",
    "# plot the results\n",
    "# plt.plot(xs, ys, '.', label=\"data\")\n",
    "plt.plot(xs, monoExp(xs, m, t, b), '--', label=\"fitted\")\n",
    "plt.title(\"Fitted Exponential Curve\")\n",
    "\n",
    "# inspect the parameters\n",
    "print(f\"Y = {m} * e^(-{t} * x) + {b}\")\n",
    "print(f\"Tau = {tauSec * 1e6} µs\")"
   ]
  },
  {
   "cell_type": "code",
   "execution_count": null,
   "id": "c7372912",
   "metadata": {
    "hidden": true
   },
   "outputs": [],
   "source": [
    "sorted_lst = sorted(xs_pricing_attachment_pt_data, key=lambda x: x[0])"
   ]
  },
  {
   "cell_type": "code",
   "execution_count": null,
   "id": "70a25ede",
   "metadata": {
    "hidden": true
   },
   "outputs": [],
   "source": [
    "xs_pricing_attachment_pt_lst = list(zip(*sorted_lst))\n",
    "np_xs_pricing_attachment_pt = np.asarray(xs_pricing_attachment_pt_lst)"
   ]
  },
  {
   "cell_type": "code",
   "execution_count": null,
   "id": "97986420",
   "metadata": {
    "hidden": true
   },
   "outputs": [],
   "source": [
    "monoExp(10, m, t, b)"
   ]
  },
  {
   "cell_type": "code",
   "execution_count": null,
   "id": "cefd28f8",
   "metadata": {
    "hidden": true
   },
   "outputs": [],
   "source": [
    "m * np.exp(-t * 10) + b"
   ]
  },
  {
   "cell_type": "code",
   "execution_count": null,
   "id": "21c274c0",
   "metadata": {
    "hidden": true
   },
   "outputs": [],
   "source": [
    "np.exp(-t)*np.exp(10)"
   ]
  },
  {
   "cell_type": "code",
   "execution_count": null,
   "id": "8d252f11",
   "metadata": {
    "hidden": true
   },
   "outputs": [],
   "source": [
    "(-t * 10)"
   ]
  },
  {
   "cell_type": "code",
   "execution_count": null,
   "id": "2919fdb6",
   "metadata": {
    "hidden": true
   },
   "outputs": [],
   "source": [
    "np_xs_pricing_attachment_pt"
   ]
  },
  {
   "cell_type": "code",
   "execution_count": null,
   "id": "55eaca37",
   "metadata": {
    "hidden": true
   },
   "outputs": [],
   "source": [
    "print(m)\n",
    "print(t)\n",
    "print(b)"
   ]
  },
  {
   "cell_type": "markdown",
   "id": "8b7f360f",
   "metadata": {},
   "source": [
    "# ATTACHEMNT POINT TEST"
   ]
  },
  {
   "cell_type": "code",
   "execution_count": null,
   "id": "c1adf608",
   "metadata": {},
   "outputs": [],
   "source": [
    "deal_value = 2_000_000_000\n",
    "attachment_pt_pct = .05\n",
    "\n",
    "limit = random.randrange(30_000_000, 50_000_000, 5_000_000)\n",
    "\n",
    "attachment_pt = deal_value * attachment_pt_pct\n",
    "\n",
    "ilf_mult = int(attachment_pt // limit) \n",
    "\n",
    "ilf_np_array = np.random.choice(np.arange(.75, .85, .025), size=ilf_mult)\n",
    "\n",
    "ilf = np.prod(ilf_np_array)"
   ]
  },
  {
   "cell_type": "code",
   "execution_count": null,
   "id": "66c6921c",
   "metadata": {},
   "outputs": [],
   "source": [
    "def pricing_generator(DV_list, pricing_range, sme_pricing_low, sme_pricing_high, mm_pricing_low, mm_pricing_high, j_pricing_low, j_pricing_high, low_ilf_5, high_ilf_10, low_ilf_10, high_ilf_15):\n",
    "    pricing_list = []\n",
    "    for index, DV in enumerate(DV_list):\n",
    "        if DV > 10_000_000 and DV < 75_000_001:\n",
    "            pricing_list.append(round(random.uniform(sme_pricing_low, sme_pricing_high), 4)) \n",
    "        if DV > 75_000_000 and DV < 750_000_001:\n",
    "            pricing_list.append(round(random.uniform(mm_pricing_low, mm_pricing_high), 4)) \n",
    "        if DV > 750_000_000:\n",
    "            if attachment_pt_list[index] < .01:\n",
    "                pricing_list.append(round(random.uniform(j_pricing_low, j_pricing_high), 4)) \n",
    "            if attachment_pt_list[index] > .049:\n",
    "                x = round(random.uniform(low_ilf_5, high_ilf_10), 2)\n",
    "                y = round(random.uniform(j_pricing_low, j_pricing_high)*x, 4)\n",
    "                pricing_list.append(y)\n",
    "            if attachment_pt_list[index] > .10 and attachment_pt_list[index] < .15:\n",
    "                x = round(random.uniform(low_ilf_10, high_ilf_15), 2)\n",
    "                y = round(random.uniform(j_pricing_low, j_pricing_high)*x, 4)\n",
    "                pricing_list.append(y) \n",
    "        \n",
    "        \n",
    "        if DV > 2_000_000_000 and DV < 5_000_000_001:\n",
    "            if attachment_pt_list[index] < .01:\n",
    "                pricing_list.append(round(random.uniform(j_pricing_low, j_pricing_high), 4)) \n",
    "            if attachment_pt_list[index] > .049 and attachment_pt_list[index] < .101:\n",
    "                x = round(random.uniform(low_ilf_5, high_ilf_10), 2)\n",
    "                y = round(random.uniform(j_pricing_low, j_pricing_high)*x, 4)\n",
    "                pricing_list.append(y)\n",
    "            if attachment_pt_list[index] > .10 and attachment_pt_list[index] < .15:\n",
    "                x = round(random.uniform(low_ilf_10*.5, high_ilf_15*.5), 2)\n",
    "                y = round(random.uniform(j_pricing_low, j_pricing_high)*x, 4)\n",
    "                pricing_list.append(y) \n",
    "    return pricing_list\n",
    "\n",
    "pricing_range = .05\n",
    "sme_pricing_low, sme_pricing_high = .01, .0125\n",
    "mm_pricing_low, mm_pricing_high = .0135, .015\n",
    "j_pricing_low, j_pricing_high = .035, .075\n",
    "low_ilf_5, high_ilf_10 = .65, .85\n",
    "low_ilf_10, high_ilf_15 = .4225, .7225\n",
    "\n",
    "pricing_list = pricing_generator(DV_list, pricing_range, sme_pricing_low, sme_pricing_high, mm_pricing_low, mm_pricing_high, j_pricing_low, j_pricing_high, low_ilf_5, high_ilf_10, low_ilf_10, high_ilf_15)"
   ]
  }
 ],
 "metadata": {
  "kernelspec": {
   "display_name": "Python 3 (ipykernel)",
   "language": "python",
   "name": "python3"
  },
  "language_info": {
   "codemirror_mode": {
    "name": "ipython",
    "version": 3
   },
   "file_extension": ".py",
   "mimetype": "text/x-python",
   "name": "python",
   "nbconvert_exporter": "python",
   "pygments_lexer": "ipython3",
   "version": "3.8.12"
  },
  "toc": {
   "base_numbering": 1,
   "nav_menu": {},
   "number_sections": true,
   "sideBar": true,
   "skip_h1_title": false,
   "title_cell": "Table of Contents",
   "title_sidebar": "Contents",
   "toc_cell": false,
   "toc_position": {},
   "toc_section_display": true,
   "toc_window_display": false
  }
 },
 "nbformat": 4,
 "nbformat_minor": 5
}
